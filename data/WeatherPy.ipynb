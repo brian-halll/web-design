{
 "cells": [
  {
   "cell_type": "markdown",
   "metadata": {},
   "source": [
    "# WeatherPy\n",
    "----\n",
    "\n",
    "#### Note\n",
    "* Instructions have been included for each segment. You do not have to follow them exactly, but they are included to help you think through the steps."
   ]
  },
  {
   "cell_type": "code",
   "execution_count": 3,
   "metadata": {},
   "outputs": [],
   "source": [
    "# pip install citipy"
   ]
  },
  {
   "cell_type": "code",
   "execution_count": 20,
   "metadata": {
    "scrolled": true
   },
   "outputs": [],
   "source": [
    "# Dependencies and Setup\n",
    "import matplotlib.pyplot as plt\n",
    "import pandas as pd\n",
    "import numpy as np\n",
    "import requests\n",
    "import time\n",
    "from scipy.stats import linregress\n",
    "from pprint import pprint\n",
    "\n",
    "# Import API key\n",
    "from api_keys import weather_api_key\n",
    "\n",
    "# Incorporated citipy to determine city based on latitude and longitude\n",
    "from citipy import citipy\n",
    "\n",
    "# Output File (CSV)\n",
    "output_data_file = \"output_data/cities.csv\"\n",
    "\n",
    "# Range of latitudes and longitudes\n",
    "lat_range = (-90, 90)\n",
    "lng_range = (-180, 180)"
   ]
  },
  {
   "cell_type": "markdown",
   "metadata": {},
   "source": [
    "## Generate Cities List"
   ]
  },
  {
   "cell_type": "code",
   "execution_count": 2,
   "metadata": {},
   "outputs": [
    {
     "data": {
      "text/plain": [
       "612"
      ]
     },
     "execution_count": 2,
     "metadata": {},
     "output_type": "execute_result"
    }
   ],
   "source": [
    "# List for holding lat_lngs and cities\n",
    "lat_lngs = []\n",
    "cities = []\n",
    "\n",
    "# Create a set of random lat and lng combinations\n",
    "lats = np.random.uniform(lat_range[0], lat_range[1], size=1500)\n",
    "lngs = np.random.uniform(lng_range[0], lng_range[1], size=1500)\n",
    "lat_lngs = zip(lats, lngs)\n",
    "\n",
    "# Identify nearest city for each lat, lng combination\n",
    "for lat_lng in lat_lngs:\n",
    "    city = citipy.nearest_city(lat_lng[0], lat_lng[1]).city_name\n",
    "    \n",
    "    # If the city is unique, then add it to a our cities list\n",
    "    if city not in cities:\n",
    "        cities.append(city)\n",
    "\n",
    "# Print the city count to confirm sufficient count\n",
    "len(cities)"
   ]
  },
  {
   "cell_type": "markdown",
   "metadata": {},
   "source": [
    "### Perform API Calls\n",
    "* Perform a weather check on each city using a series of successive API calls.\n",
    "* Include a print log of each city as it'sbeing processed (with the city number and city name).\n"
   ]
  },
  {
   "cell_type": "code",
   "execution_count": 3,
   "metadata": {},
   "outputs": [],
   "source": [
    "url = \"http://api.openweathermap.org/data/2.5/weather?\"\n",
    "units = \"imperial\"\n",
    "\n",
    "# Build partial query URL\n",
    "query_url = f\"{url}appid={weather_api_key}&units={units}&q=\""
   ]
  },
  {
   "cell_type": "code",
   "execution_count": 4,
   "metadata": {},
   "outputs": [
    {
     "name": "stdout",
     "output_type": "stream",
     "text": [
      "{'base': 'stations',\n",
      " 'clouds': {'all': 0},\n",
      " 'cod': 200,\n",
      " 'coord': {'lat': -15.4311, 'lon': -74.6158},\n",
      " 'dt': 1669838283,\n",
      " 'id': 3948613,\n",
      " 'main': {'feels_like': 78.64,\n",
      "          'grnd_level': 993,\n",
      "          'humidity': 54,\n",
      "          'pressure': 1011,\n",
      "          'sea_level': 1011,\n",
      "          'temp': 78.55,\n",
      "          'temp_max': 78.55,\n",
      "          'temp_min': 78.55},\n",
      " 'name': 'Acarí',\n",
      " 'sys': {'country': 'PE', 'sunrise': 1669803506, 'sunset': 1669850176},\n",
      " 'timezone': -18000,\n",
      " 'visibility': 10000,\n",
      " 'weather': [{'description': 'clear sky',\n",
      "              'icon': '01d',\n",
      "              'id': 800,\n",
      "              'main': 'Clear'}],\n",
      " 'wind': {'deg': 194, 'gust': 8.61, 'speed': 11.43}}\n"
     ]
    }
   ],
   "source": [
    "response = requests.get(query_url + city).json()\n",
    "pprint(response)"
   ]
  },
  {
   "cell_type": "code",
   "execution_count": 5,
   "metadata": {},
   "outputs": [
    {
     "name": "stdout",
     "output_type": "stream",
     "text": [
      "Beginning Data Retrieval...\n",
      "------------------------------\n",
      "Processing record 0 | monywa\n",
      "Processing record 1 | kargil\n",
      "Processing record 2 | albany\n",
      "Processing record 3 | boli\n",
      "Processing record 4 | mount pleasant\n",
      "Processing record 5 | ushuaia\n",
      "Processing record 6 | puerto ayora\n",
      "Processing record 7 | soyo\n",
      "Processing record 8 | qaanaaq\n",
      "Processing record 9 | terrasini\n",
      "tsihombe not found. Skipping...\n",
      "Processing record 10 | bathsheba\n",
      "Processing record 11 | severnoye\n",
      "Processing record 12 | port hedland\n",
      "sentyabrskiy not found. Skipping...\n",
      "Processing record 13 | rikitea\n",
      "Processing record 14 | busselton\n",
      "Processing record 15 | longyearbyen\n",
      "Processing record 16 | rabaul\n",
      "Processing record 17 | gannan\n",
      "Processing record 18 | dingle\n",
      "Processing record 19 | constitucion\n",
      "Processing record 20 | navoi\n",
      "Processing record 21 | cayenne\n",
      "Processing record 22 | tiksi\n",
      "Processing record 23 | victoria\n",
      "Processing record 24 | upernavik\n",
      "Processing record 25 | mataura\n",
      "Processing record 26 | carnarvon\n",
      "Processing record 27 | saskylakh\n",
      "Processing record 28 | pisco\n",
      "taolanaro not found. Skipping...\n",
      "Processing record 29 | kaitangata\n",
      "Processing record 30 | norman wells\n",
      "Processing record 31 | mahebourg\n",
      "Processing record 32 | castro\n",
      "Processing record 33 | hobart\n",
      "Processing record 34 | iseyin\n",
      "Processing record 35 | omsukchan\n",
      "warqla not found. Skipping...\n",
      "Processing record 36 | sao joao da barra\n",
      "Processing record 37 | puerto escondido\n",
      "illoqqortoormiut not found. Skipping...\n",
      "Processing record 38 | rubio\n",
      "Processing record 39 | christchurch\n",
      "Processing record 40 | vaini\n",
      "Processing record 41 | port hardy\n",
      "Processing record 42 | kaliua\n",
      "mergui not found. Skipping...\n",
      "Processing record 43 | east london\n",
      "Processing record 44 | punta arenas\n",
      "Processing record 45 | kjollefjord\n",
      "Processing record 46 | shache\n",
      "Processing record 47 | hermanus\n",
      "Processing record 48 | saint anthony\n",
      "Processing record 49 | port alfred\n",
      "Processing record 50 | carutapera\n",
      "Processing record 51 | leningradskiy\n",
      "Processing record 52 | barrow\n",
      "Processing record 53 | geraldton\n",
      "Processing record 54 | vanimo\n",
      "Processing record 55 | jamestown\n",
      "Processing record 56 | muros\n",
      "barentsburg not found. Skipping...\n",
      "Processing record 57 | atuona\n",
      "gorno-chuyskiy not found. Skipping...\n",
      "Processing record 58 | georgetown\n",
      "Processing record 59 | sola\n",
      "marcona not found. Skipping...\n",
      "Processing record 60 | leh\n",
      "Processing record 61 | aswan\n",
      "Processing record 62 | mecca\n",
      "Processing record 63 | west fargo\n",
      "Processing record 64 | gornopravdinsk\n",
      "Processing record 65 | cape town\n",
      "Processing record 66 | salinas\n",
      "buariki not found. Skipping...\n",
      "Processing record 67 | povenets\n",
      "Processing record 68 | shelburne\n",
      "Processing record 69 | barentu\n",
      "Processing record 70 | bluff\n",
      "Processing record 71 | avarua\n",
      "sofiysk not found. Skipping...\n",
      "Processing record 72 | hanzhong\n",
      "Processing record 73 | matagami\n",
      "Processing record 74 | arraial do cabo\n",
      "Processing record 75 | thompson\n",
      "Processing record 76 | saldanha\n",
      "Processing record 77 | provideniya\n",
      "Processing record 78 | constantine\n",
      "Processing record 79 | bandarbeyla\n",
      "Processing record 80 | kousseri\n",
      "Processing record 81 | ust-maya\n",
      "Processing record 82 | fukue\n",
      "Processing record 83 | yellowknife\n",
      "Processing record 84 | tuktoyaktuk\n",
      "Processing record 85 | moussoro\n",
      "Processing record 86 | marsaxlokk\n",
      "Processing record 87 | karratha\n",
      "Processing record 88 | tsogni\n",
      "Processing record 89 | tonantins\n",
      "Processing record 90 | coquimbo\n",
      "Processing record 91 | new norfolk\n",
      "Processing record 92 | bilibino\n",
      "bokspits not found. Skipping...\n",
      "Processing record 93 | kargat\n",
      "Processing record 94 | solnechnyy\n",
      "Processing record 95 | los llanos de aridane\n",
      "Processing record 96 | abu dhabi\n",
      "Processing record 97 | butaritari\n",
      "Processing record 98 | port elizabeth\n",
      "Processing record 99 | bubaque\n",
      "palabuhanratu not found. Skipping...\n",
      "belushya guba not found. Skipping...\n",
      "saleaula not found. Skipping...\n",
      "Processing record 100 | chokurdakh\n",
      "mys shmidta not found. Skipping...\n",
      "Processing record 101 | katsuura\n",
      "Processing record 102 | miaray\n",
      "Processing record 103 | lompoc\n",
      "Processing record 104 | nouadhibou\n",
      "Processing record 105 | santiago de cao\n",
      "Processing record 106 | santa vitoria do palmar\n",
      "Processing record 107 | cherskiy\n",
      "Processing record 108 | ulaanbaatar\n",
      "Processing record 109 | isla vista\n",
      "Processing record 110 | cumana\n",
      "Processing record 111 | myre\n",
      "Processing record 112 | dudinka\n",
      "Processing record 113 | kodiak\n",
      "Processing record 114 | gilgit\n",
      "Processing record 115 | tilichiki\n",
      "Processing record 116 | bethel\n",
      "Processing record 117 | caravelas\n",
      "Processing record 118 | yulara\n",
      "Processing record 119 | hamilton\n",
      "Processing record 120 | krasnoselkup\n",
      "Processing record 121 | marawi\n",
      "Processing record 122 | mount gambier\n",
      "Processing record 123 | kapaa\n",
      "Processing record 124 | shimoda\n",
      "Processing record 125 | bengkulu\n",
      "Processing record 126 | bredasdorp\n",
      "Processing record 127 | beringovskiy\n",
      "Processing record 128 | alta floresta\n",
      "Processing record 129 | codrington\n",
      "Processing record 130 | jardim\n",
      "Processing record 131 | santa cruz de la palma\n",
      "Processing record 132 | hualmay\n",
      "Processing record 133 | iqaluit\n",
      "Processing record 134 | estelle\n",
      "Processing record 135 | naze\n",
      "grand river south east not found. Skipping...\n",
      "Processing record 136 | khatanga\n",
      "Processing record 137 | cidreira\n",
      "Processing record 138 | zeya\n",
      "Processing record 139 | san carlos de bariloche\n",
      "malwan not found. Skipping...\n",
      "Processing record 140 | bonney lake\n",
      "Processing record 141 | maragogi\n",
      "Processing record 142 | dikson\n",
      "Processing record 143 | perth\n",
      "Processing record 144 | airai\n",
      "Processing record 145 | chuy\n",
      "Processing record 146 | whitehorse\n",
      "Processing record 147 | ribeira grande\n",
      "Processing record 148 | nishihara\n",
      "Processing record 149 | paoua\n",
      "Processing record 150 | tongling\n",
      "rungata not found. Skipping...\n",
      "Processing record 151 | tuatapere\n",
      "Processing record 152 | zhigansk\n",
      "Processing record 153 | lima\n",
      "Processing record 154 | ponta do sol\n",
      "Processing record 155 | kaeo\n",
      "Processing record 156 | te anau\n",
      "Processing record 157 | tiznit\n",
      "Processing record 158 | saint-augustin\n",
      "Processing record 159 | tasiilaq\n",
      "Processing record 160 | cabo san lucas\n",
      "Processing record 161 | nikolskoye\n",
      "labutta not found. Skipping...\n",
      "Processing record 162 | sao filipe\n",
      "Processing record 163 | nago\n",
      "Processing record 164 | kirkwall\n",
      "Processing record 165 | dong hoi\n",
      "Processing record 166 | comodoro rivadavia\n",
      "Processing record 167 | ambilobe\n",
      "Processing record 168 | san juan\n",
      "Processing record 169 | lebu\n",
      "Processing record 170 | sobolevo\n",
      "Processing record 171 | yambio\n",
      "Processing record 172 | hambantota\n",
      "Processing record 173 | hienghene\n",
      "Processing record 174 | eenhana\n",
      "Processing record 175 | hilo\n",
      "Processing record 176 | sao jose da coroa grande\n",
      "Processing record 177 | bambous virieux\n",
      "Processing record 178 | namibe\n",
      "Processing record 179 | souillac\n",
      "Processing record 180 | salihorsk\n",
      "Processing record 181 | luderitz\n",
      "Processing record 182 | oktyabrskiy\n",
      "Processing record 183 | bereda\n",
      "Processing record 184 | kuruman\n",
      "attawapiskat not found. Skipping...\n",
      "nizhneyansk not found. Skipping...\n",
      "Processing record 185 | egvekinot\n",
      "Processing record 186 | binzhou\n",
      "Processing record 187 | severo-kurilsk\n",
      "Processing record 188 | aseri\n",
      "Processing record 189 | northam\n",
      "Processing record 190 | vardo\n",
      "Processing record 191 | lanxi\n",
      "Processing record 192 | dhidhdhoo\n",
      "Processing record 193 | maldonado\n",
      "Processing record 194 | sitka\n",
      "Processing record 195 | saint-paul\n",
      "Processing record 196 | fort nelson\n",
      "Processing record 197 | havelock\n",
      "Processing record 198 | paamiut\n",
      "Processing record 199 | kawalu\n",
      "Processing record 200 | poum\n",
      "sataua not found. Skipping...\n",
      "Processing record 201 | caucaia\n",
      "Processing record 202 | nemuro\n",
      "Processing record 203 | merauke\n",
      "Processing record 204 | grindavik\n",
      "sorvag not found. Skipping...\n",
      "Processing record 205 | pevek\n",
      "Processing record 206 | ville-marie\n",
      "Processing record 207 | puerto del rosario\n",
      "Processing record 208 | itoman\n",
      "Processing record 209 | yar-sale\n",
      "Processing record 210 | thabazimbi\n",
      "Processing record 211 | broome\n",
      "Processing record 212 | amapa\n",
      "Processing record 213 | pathein\n",
      "Processing record 214 | craig\n",
      "Processing record 215 | cambridge\n",
      "Processing record 216 | mar del plata\n",
      "Processing record 217 | bauchi\n",
      "Processing record 218 | alpena\n",
      "khonuu not found. Skipping...\n",
      "Processing record 219 | baykit\n",
      "Processing record 220 | kysyl-syr\n"
     ]
    },
    {
     "name": "stdout",
     "output_type": "stream",
     "text": [
      "Processing record 221 | rock hill\n",
      "Processing record 222 | esperance\n",
      "Processing record 223 | renigunta\n",
      "Processing record 224 | ciortesti\n",
      "Processing record 225 | torbay\n",
      "Processing record 226 | erenhot\n",
      "Processing record 227 | kayerkan\n",
      "Processing record 228 | manta\n",
      "Processing record 229 | rio bonito\n",
      "Processing record 230 | port lincoln\n",
      "Processing record 231 | lasa\n",
      "Processing record 232 | klaksvik\n",
      "Processing record 233 | kuching\n",
      "Processing record 234 | kulhudhuffushi\n",
      "amderma not found. Skipping...\n",
      "Processing record 235 | champerico\n",
      "jaramana not found. Skipping...\n",
      "Processing record 236 | rio gallegos\n",
      "Processing record 237 | mayo\n",
      "Processing record 238 | ostrovnoy\n",
      "Processing record 239 | bracebridge\n",
      "Processing record 240 | mwanza\n",
      "Processing record 241 | ballina\n",
      "Processing record 242 | ancud\n",
      "Processing record 243 | dicabisagan\n",
      "Processing record 244 | vila franca do campo\n",
      "Processing record 245 | bacolod\n",
      "Processing record 246 | sur\n",
      "Processing record 247 | makakilo city\n",
      "chom bung not found. Skipping...\n",
      "Processing record 248 | oranjemund\n",
      "Processing record 249 | ahuimanu\n",
      "Processing record 250 | korla\n",
      "chagda not found. Skipping...\n",
      "Processing record 251 | codajas\n",
      "Processing record 252 | sironj\n",
      "Processing record 253 | neuquen\n",
      "Processing record 254 | srednekolymsk\n",
      "Processing record 255 | olafsvik\n",
      "Processing record 256 | nantucket\n",
      "Processing record 257 | vao\n",
      "Processing record 258 | pedernales\n",
      "Processing record 259 | moron\n",
      "Processing record 260 | adamovka\n",
      "Processing record 261 | candido de abreu\n",
      "Processing record 262 | mahajanga\n",
      "Processing record 263 | nouakchott\n",
      "Processing record 264 | road town\n",
      "Processing record 265 | havre-saint-pierre\n",
      "Processing record 266 | pangnirtung\n",
      "Processing record 267 | guarapari\n",
      "Processing record 268 | almaznyy\n",
      "Processing record 269 | nieves\n",
      "Processing record 270 | asau\n",
      "Processing record 271 | murwara\n",
      "Processing record 272 | asyut\n",
      "umzimvubu not found. Skipping...\n",
      "Processing record 273 | mersing\n",
      "Processing record 274 | slave lake\n",
      "Processing record 275 | boyolangu\n",
      "Processing record 276 | sohag\n",
      "Processing record 277 | kiunga\n",
      "Processing record 278 | santiago\n",
      "Processing record 279 | porto novo\n",
      "grand centre not found. Skipping...\n",
      "Processing record 280 | paris\n",
      "wulanhaote not found. Skipping...\n",
      "Processing record 281 | saint george\n",
      "Processing record 282 | dedovichi\n",
      "Processing record 283 | mendi\n",
      "Processing record 284 | saint-leu\n",
      "Processing record 285 | eydhafushi\n",
      "Processing record 286 | aden\n",
      "Processing record 287 | sars\n",
      "Processing record 288 | alofi\n",
      "Processing record 289 | barreiras\n",
      "Processing record 290 | buckeye\n",
      "Processing record 291 | lata\n",
      "Processing record 292 | juneau\n",
      "Processing record 293 | puerto el triunfo\n",
      "Processing record 294 | kavieng\n",
      "Processing record 295 | thessalon\n",
      "Processing record 296 | xianyang\n",
      "Processing record 297 | sestri levante\n",
      "Processing record 298 | kajaani\n",
      "Processing record 299 | nara\n",
      "Processing record 300 | bonthe\n",
      "Processing record 301 | rawson\n",
      "Processing record 302 | walvis bay\n",
      "Processing record 303 | camargo\n",
      "Processing record 304 | barquisimeto\n",
      "Processing record 305 | kruisfontein\n",
      "Processing record 306 | franca\n",
      "Processing record 307 | loviisa\n",
      "Processing record 308 | samarai\n",
      "Processing record 309 | nome\n",
      "Processing record 310 | cangzhou\n",
      "Processing record 311 | jacareacanga\n",
      "Processing record 312 | pangody\n",
      "louisbourg not found. Skipping...\n",
      "Processing record 313 | sabang\n",
      "Processing record 314 | ambovombe\n",
      "Processing record 315 | owando\n",
      "Processing record 316 | quatre cocos\n",
      "Processing record 317 | guerrero negro\n",
      "Processing record 318 | kyzyl-suu\n",
      "Processing record 319 | ahipara\n",
      "Processing record 320 | hithadhoo\n",
      "Processing record 321 | wladyslawowo\n",
      "Processing record 322 | college\n",
      "Processing record 323 | trairi\n",
      "Processing record 324 | kalabo\n",
      "Processing record 325 | tornio\n",
      "Processing record 326 | banepa\n",
      "Processing record 327 | faya\n",
      "Processing record 328 | ngunguru\n",
      "Processing record 329 | jinka\n",
      "Processing record 330 | deputatskiy\n",
      "Processing record 331 | zheleznodorozhnyy\n",
      "Processing record 332 | inhambane\n",
      "Processing record 333 | xuddur\n",
      "Processing record 334 | gondanglegi\n",
      "Processing record 335 | isiro\n",
      "Processing record 336 | pervomayskiy\n",
      "Processing record 337 | kismayo\n",
      "Processing record 338 | san javier\n",
      "Processing record 339 | rockport\n",
      "Processing record 340 | sulangan\n",
      "bolungarvik not found. Skipping...\n",
      "Processing record 341 | san andres\n",
      "Processing record 342 | belmonte\n",
      "Processing record 343 | nueva helvecia\n",
      "Processing record 344 | vila velha\n",
      "Processing record 345 | bloemfontein\n",
      "viligili not found. Skipping...\n",
      "Processing record 346 | severomuysk\n",
      "Processing record 347 | saint-philippe\n",
      "Processing record 348 | svetlogorsk\n",
      "Processing record 349 | inuvik\n",
      "Processing record 350 | la ronge\n",
      "Processing record 351 | bantou\n",
      "Processing record 352 | ambon\n",
      "Processing record 353 | kroya\n",
      "cumaribo not found. Skipping...\n",
      "Processing record 354 | zhaotong\n",
      "Processing record 355 | ust-kuyga\n",
      "Processing record 356 | puerto baquerizo moreno\n",
      "Processing record 357 | rabo de peixe\n",
      "Processing record 358 | flinders\n",
      "Processing record 359 | padang\n",
      "Processing record 360 | pietarsaari\n",
      "Processing record 361 | chaman\n",
      "Processing record 362 | mahibadhoo\n",
      "Processing record 363 | piet retief\n",
      "Processing record 364 | mozarlandia\n",
      "Processing record 365 | waw\n",
      "Processing record 366 | luga\n",
      "Processing record 367 | san patricio\n",
      "Processing record 368 | tabou\n",
      "Processing record 369 | labuhan\n",
      "tarudant not found. Skipping...\n",
      "Processing record 370 | yanaul\n",
      "Processing record 371 | nanortalik\n",
      "Processing record 372 | raga\n",
      "Processing record 373 | dengzhou\n",
      "Processing record 374 | maxixe\n",
      "Processing record 375 | gisborne\n",
      "Processing record 376 | tual\n",
      "Processing record 377 | penzance\n",
      "Processing record 378 | vicuna\n",
      "Processing record 379 | alamosa\n",
      "choucheng not found. Skipping...\n",
      "Processing record 380 | fortuna\n",
      "Processing record 381 | rudbar\n",
      "Processing record 382 | brae\n",
      "Processing record 383 | dubti\n",
      "Processing record 384 | hailey\n",
      "Processing record 385 | nioro\n",
      "Processing record 386 | kieta\n",
      "Processing record 387 | ilulissat\n",
      "toliary not found. Skipping...\n",
      "Processing record 388 | sioux lookout\n",
      "Processing record 389 | eureka\n",
      "Processing record 390 | faanui\n",
      "Processing record 391 | saint-pierre\n",
      "Processing record 392 | keuruu\n",
      "Processing record 393 | boa vista\n",
      "Processing record 394 | imeni babushkina\n",
      "Processing record 395 | ugoofaaru\n",
      "Processing record 396 | biltine\n",
      "Processing record 397 | sandpoint\n",
      "Processing record 398 | ouesso\n",
      "Processing record 399 | havoysund\n",
      "Processing record 400 | muisne\n",
      "Processing record 401 | hami\n",
      "Processing record 402 | hofn\n",
      "Processing record 403 | dodola\n",
      "Processing record 404 | konstantinovka\n",
      "Processing record 405 | talitsa\n",
      "Processing record 406 | maasmechelen\n",
      "Processing record 407 | blyth\n",
      "Processing record 408 | kidal\n",
      "Processing record 409 | pskov\n",
      "Processing record 410 | capaci\n",
      "Processing record 411 | dunedin\n",
      "Processing record 412 | igarka\n",
      "Processing record 413 | sokoni\n",
      "Processing record 414 | wanning\n",
      "Processing record 415 | gorontalo\n",
      "Processing record 416 | la asuncion\n",
      "vaitupu not found. Skipping...\n",
      "Processing record 417 | mehamn\n",
      "Processing record 418 | groton\n",
      "Processing record 419 | katobu\n",
      "Processing record 420 | nalut\n",
      "Processing record 421 | cortez\n",
      "Processing record 422 | hobyo\n",
      "Processing record 423 | gimli\n",
      "Processing record 424 | miraflores\n",
      "Processing record 425 | pemangkat\n",
      "Processing record 426 | nohar\n",
      "Processing record 427 | baracoa\n",
      "Processing record 428 | byron bay\n",
      "Processing record 429 | nanga eboko\n",
      "Processing record 430 | pelym\n",
      "Processing record 431 | tazovskiy\n",
      "Processing record 432 | kishi\n",
      "Processing record 433 | curup\n",
      "Processing record 434 | tura\n",
      "Processing record 435 | necochea\n",
      "Processing record 436 | luau\n",
      "Processing record 437 | oussouye\n",
      "Processing record 438 | fairbanks\n",
      "Processing record 439 | san jose\n",
      "Processing record 440 | la libertad\n",
      "samalaeulu not found. Skipping...\n",
      "Processing record 441 | adana\n",
      "Processing record 442 | half moon bay\n",
      "Processing record 443 | dubbo\n",
      "Processing record 444 | richards bay\n",
      "Processing record 445 | nizhniy ufaley\n",
      "Processing record 446 | chapais\n",
      "Processing record 447 | ola\n",
      "urdzhar not found. Skipping...\n",
      "Processing record 448 | las vegas\n",
      "Processing record 449 | gombong\n",
      "grimari not found. Skipping...\n",
      "Processing record 450 | lovozero\n",
      "Processing record 451 | pacific grove\n"
     ]
    },
    {
     "name": "stdout",
     "output_type": "stream",
     "text": [
      "mahadday weyne not found. Skipping...\n",
      "Processing record 452 | san rafael del sur\n",
      "Processing record 453 | mbinga\n",
      "Processing record 454 | kahului\n",
      "Processing record 455 | barma\n",
      "Processing record 456 | barrancabermeja\n",
      "Processing record 457 | ahtopol\n",
      "Processing record 458 | donskoye\n",
      "Processing record 459 | kifri\n",
      "Processing record 460 | whakatane\n",
      "Processing record 461 | boras\n",
      "Processing record 462 | clyde river\n",
      "Processing record 463 | sauda\n",
      "Processing record 464 | magistralnyy\n",
      "Processing record 465 | daoukro\n",
      "Processing record 466 | adrar\n",
      "Processing record 467 | rawlins\n",
      "Processing record 468 | olinala\n",
      "Processing record 469 | nieuw nickerie\n",
      "Processing record 470 | atambua\n",
      "Processing record 471 | narsaq\n",
      "Processing record 472 | wellington\n",
      "tasbuget not found. Skipping...\n",
      "Processing record 473 | dolores\n",
      "mendahara not found. Skipping...\n",
      "Processing record 474 | coihaique\n",
      "Processing record 475 | maine-soroa\n",
      "Processing record 476 | cedar city\n",
      "ijaki not found. Skipping...\n",
      "Processing record 477 | mnogovershinnyy\n",
      "Processing record 478 | bonavista\n",
      "Processing record 479 | beloha\n",
      "Processing record 480 | abu kamal\n",
      "Processing record 481 | bundaberg\n",
      "Processing record 482 | dali\n",
      "Processing record 483 | puyang\n",
      "tiruvottiyur not found. Skipping...\n",
      "Processing record 484 | eyl\n",
      "Processing record 485 | aurora\n",
      "Processing record 486 | loa janan\n",
      "Processing record 487 | udachnyy\n",
      "Processing record 488 | banda aceh\n",
      "Processing record 489 | camiri\n",
      "Processing record 490 | smidovich\n",
      "Processing record 491 | price\n",
      "Processing record 492 | salalah\n",
      "Processing record 493 | sotnikovo\n",
      "Processing record 494 | sisimiut\n",
      "Processing record 495 | reporoa\n",
      "Processing record 496 | arman\n",
      "Processing record 497 | ereymentau\n",
      "Processing record 498 | fuerte olimpo\n",
      "Processing record 499 | pangai\n",
      "Processing record 500 | svelgen\n",
      "Processing record 501 | golden\n",
      "Processing record 502 | meulaboh\n",
      "Processing record 503 | maniitsoq\n",
      "Processing record 504 | high level\n",
      "kuanshan not found. Skipping...\n",
      "Processing record 505 | westport\n",
      "Processing record 506 | port hawkesbury\n",
      "Processing record 507 | nicoya\n",
      "Processing record 508 | omboue\n",
      "Processing record 509 | vire\n",
      "Processing record 510 | ayr\n",
      "Processing record 511 | tautira\n",
      "Processing record 512 | jalu\n",
      "Processing record 513 | dukat\n",
      "Processing record 514 | beibei\n",
      "Processing record 515 | batagay-alyta\n",
      "Processing record 516 | lavrentiya\n",
      "Processing record 517 | acapulco\n",
      "Processing record 518 | armidale\n",
      "Processing record 519 | derzhavinsk\n",
      "Processing record 520 | portland\n",
      "Processing record 521 | ghanzi\n",
      "Processing record 522 | tailai\n",
      "Processing record 523 | palmares do sul\n",
      "Processing record 524 | mancio lima\n",
      "Processing record 525 | grand-lahou\n",
      "Processing record 526 | togur\n",
      "Processing record 527 | siguiri\n",
      "Processing record 528 | pianco\n",
      "Processing record 529 | bainbridge\n",
      "Processing record 530 | linxia\n",
      "Processing record 531 | san quintin\n",
      "Processing record 532 | kabanjahe\n",
      "Processing record 533 | santa rosalia\n",
      "Processing record 534 | tommot\n",
      "Processing record 535 | hamada\n",
      "Processing record 536 | impfondo\n",
      "Processing record 537 | aksarka\n",
      "Processing record 538 | presidente dutra\n",
      "Processing record 539 | dawei\n",
      "Processing record 540 | nizwa\n",
      "Processing record 541 | espoo\n",
      "Processing record 542 | yarmouth\n",
      "Processing record 543 | mataram\n",
      "Processing record 544 | nautla\n",
      "Processing record 545 | tahlequah\n",
      "Processing record 546 | butte\n",
      "Processing record 547 | klenovyy\n",
      "Processing record 548 | khanpur\n",
      "Processing record 549 | naqadeh\n",
      "opobo not found. Skipping...\n",
      "Processing record 550 | ginir\n",
      "Processing record 551 | ygatimi\n",
      "Processing record 552 | ariquemes\n",
      "Processing record 553 | kisangani\n",
      "Processing record 554 | sidney\n",
      "Processing record 555 | quang ngai\n",
      "Processing record 556 | aracuai\n",
      "Processing record 557 | kemise\n",
      "Processing record 558 | shingu\n",
      "Processing record 559 | sabancuy\n",
      "Processing record 560 | chibuto\n",
      "Processing record 561 | acari\n",
      "50 cities were not found...\n"
     ]
    }
   ],
   "source": [
    "found_cities = []\n",
    "temps = []\n",
    "lats = []\n",
    "lons = []\n",
    "hums = []\n",
    "clouds = []\n",
    "wnd_speed = []\n",
    "country = []\n",
    "date = []\n",
    "count = 0\n",
    "notFound = 0\n",
    "\n",
    "# test_cities = [cities[0],cities[1],cities[2],cities[3],cities[4],cities[5]]\n",
    "\n",
    "print(\"Beginning Data Retrieval...\")\n",
    "print(\"------------------------------\")\n",
    "\n",
    "for city in cities:\n",
    "\n",
    "    try:\n",
    "\n",
    "        response = requests.get(query_url + city).json()\n",
    "        temps.append(response['main']['temp_max'])\n",
    "        hums.append(response['main']['humidity'])\n",
    "        lats.append(response['coord']['lat'])\n",
    "        lons.append(response['coord']['lon'])\n",
    "        clouds.append(response['clouds']['all'])\n",
    "        wnd_speed.append(response['wind']['speed'])\n",
    "        country.append(response['sys']['country'])\n",
    "        date.append(response['dt'])\n",
    "        found_cities.append(city)\n",
    "\n",
    "        print(f\"Processing record {count} | {city}\")\n",
    "        count = count + 1\n",
    "        \n",
    "    except:\n",
    "        print(f\"{city} not found. Skipping...\")\n",
    "        notFound = notFound + 1\n",
    "            \n",
    "print(f\"{notFound} cities were not found...\")"
   ]
  },
  {
   "cell_type": "markdown",
   "metadata": {},
   "source": [
    "### Convert Raw Data to DataFrame\n",
    "* Export the city data into a .csv.\n",
    "* Display the DataFrame"
   ]
  },
  {
   "cell_type": "code",
   "execution_count": 6,
   "metadata": {},
   "outputs": [
    {
     "name": "stdout",
     "output_type": "stream",
     "text": [
      "Cities :  562\n",
      "Lat : 562\n",
      "Lon : 562\n",
      "Max Temp : 562\n",
      "Humidity : 562\n",
      "Wind Speed : 562\n",
      "Cloudiness : 562\n",
      "Country : 562\n",
      "Date : 562\n"
     ]
    }
   ],
   "source": [
    "print(f\"Cities :  {len(found_cities)}\")\n",
    "print(f\"Lat : {len(lats)}\")\n",
    "print(f\"Lon : {len(lons)}\")\n",
    "print(f\"Max Temp : {len(temps)}\")\n",
    "print(f\"Humidity : {len(hums)}\")\n",
    "print(f\"Wind Speed : {len(wnd_speed)}\")\n",
    "print(f\"Cloudiness : {len(clouds)}\")\n",
    "print(f\"Country : {len(country)}\")\n",
    "print(f\"Date : {len(date)}\")            "
   ]
  },
  {
   "cell_type": "code",
   "execution_count": 7,
   "metadata": {},
   "outputs": [
    {
     "data": {
      "text/html": [
       "<div>\n",
       "<style scoped>\n",
       "    .dataframe tbody tr th:only-of-type {\n",
       "        vertical-align: middle;\n",
       "    }\n",
       "\n",
       "    .dataframe tbody tr th {\n",
       "        vertical-align: top;\n",
       "    }\n",
       "\n",
       "    .dataframe thead th {\n",
       "        text-align: right;\n",
       "    }\n",
       "</style>\n",
       "<table border=\"1\" class=\"dataframe\">\n",
       "  <thead>\n",
       "    <tr style=\"text-align: right;\">\n",
       "      <th></th>\n",
       "      <th>City</th>\n",
       "      <th>Lat</th>\n",
       "      <th>Lng</th>\n",
       "      <th>Max Temp</th>\n",
       "      <th>Humidity</th>\n",
       "      <th>Cloudiness</th>\n",
       "      <th>Wind Speed</th>\n",
       "      <th>Country</th>\n",
       "      <th>Date</th>\n",
       "    </tr>\n",
       "  </thead>\n",
       "  <tbody>\n",
       "    <tr>\n",
       "      <th>0</th>\n",
       "      <td>monywa</td>\n",
       "      <td>22.1167</td>\n",
       "      <td>95.1333</td>\n",
       "      <td>71.17</td>\n",
       "      <td>64</td>\n",
       "      <td>2</td>\n",
       "      <td>6.53</td>\n",
       "      <td>MM</td>\n",
       "      <td>1669838284</td>\n",
       "    </tr>\n",
       "    <tr>\n",
       "      <th>1</th>\n",
       "      <td>kargil</td>\n",
       "      <td>34.5667</td>\n",
       "      <td>76.1000</td>\n",
       "      <td>25.36</td>\n",
       "      <td>41</td>\n",
       "      <td>100</td>\n",
       "      <td>2.64</td>\n",
       "      <td>IN</td>\n",
       "      <td>1669838285</td>\n",
       "    </tr>\n",
       "    <tr>\n",
       "      <th>2</th>\n",
       "      <td>albany</td>\n",
       "      <td>42.6001</td>\n",
       "      <td>-73.9662</td>\n",
       "      <td>52.95</td>\n",
       "      <td>91</td>\n",
       "      <td>100</td>\n",
       "      <td>5.99</td>\n",
       "      <td>US</td>\n",
       "      <td>1669838286</td>\n",
       "    </tr>\n",
       "    <tr>\n",
       "      <th>3</th>\n",
       "      <td>boli</td>\n",
       "      <td>45.7667</td>\n",
       "      <td>130.5167</td>\n",
       "      <td>-0.38</td>\n",
       "      <td>76</td>\n",
       "      <td>98</td>\n",
       "      <td>14.07</td>\n",
       "      <td>CN</td>\n",
       "      <td>1669838286</td>\n",
       "    </tr>\n",
       "    <tr>\n",
       "      <th>4</th>\n",
       "      <td>mount pleasant</td>\n",
       "      <td>32.7941</td>\n",
       "      <td>-79.8626</td>\n",
       "      <td>69.10</td>\n",
       "      <td>83</td>\n",
       "      <td>0</td>\n",
       "      <td>9.22</td>\n",
       "      <td>US</td>\n",
       "      <td>1669838082</td>\n",
       "    </tr>\n",
       "    <tr>\n",
       "      <th>...</th>\n",
       "      <td>...</td>\n",
       "      <td>...</td>\n",
       "      <td>...</td>\n",
       "      <td>...</td>\n",
       "      <td>...</td>\n",
       "      <td>...</td>\n",
       "      <td>...</td>\n",
       "      <td>...</td>\n",
       "      <td>...</td>\n",
       "    </tr>\n",
       "    <tr>\n",
       "      <th>557</th>\n",
       "      <td>kemise</td>\n",
       "      <td>10.7167</td>\n",
       "      <td>39.8667</td>\n",
       "      <td>61.50</td>\n",
       "      <td>48</td>\n",
       "      <td>6</td>\n",
       "      <td>2.26</td>\n",
       "      <td>ET</td>\n",
       "      <td>1669838553</td>\n",
       "    </tr>\n",
       "    <tr>\n",
       "      <th>558</th>\n",
       "      <td>shingu</td>\n",
       "      <td>33.7333</td>\n",
       "      <td>135.9833</td>\n",
       "      <td>46.00</td>\n",
       "      <td>73</td>\n",
       "      <td>92</td>\n",
       "      <td>6.98</td>\n",
       "      <td>JP</td>\n",
       "      <td>1669838553</td>\n",
       "    </tr>\n",
       "    <tr>\n",
       "      <th>559</th>\n",
       "      <td>sabancuy</td>\n",
       "      <td>18.9667</td>\n",
       "      <td>-91.1833</td>\n",
       "      <td>87.24</td>\n",
       "      <td>56</td>\n",
       "      <td>13</td>\n",
       "      <td>6.29</td>\n",
       "      <td>MX</td>\n",
       "      <td>1669838553</td>\n",
       "    </tr>\n",
       "    <tr>\n",
       "      <th>560</th>\n",
       "      <td>chibuto</td>\n",
       "      <td>-24.6867</td>\n",
       "      <td>33.5306</td>\n",
       "      <td>66.85</td>\n",
       "      <td>84</td>\n",
       "      <td>0</td>\n",
       "      <td>4.88</td>\n",
       "      <td>MZ</td>\n",
       "      <td>1669838554</td>\n",
       "    </tr>\n",
       "    <tr>\n",
       "      <th>561</th>\n",
       "      <td>acari</td>\n",
       "      <td>-15.4311</td>\n",
       "      <td>-74.6158</td>\n",
       "      <td>78.55</td>\n",
       "      <td>54</td>\n",
       "      <td>0</td>\n",
       "      <td>11.43</td>\n",
       "      <td>PE</td>\n",
       "      <td>1669838283</td>\n",
       "    </tr>\n",
       "  </tbody>\n",
       "</table>\n",
       "<p>562 rows × 9 columns</p>\n",
       "</div>"
      ],
      "text/plain": [
       "               City      Lat       Lng  Max Temp  Humidity  Cloudiness  \\\n",
       "0            monywa  22.1167   95.1333     71.17        64           2   \n",
       "1            kargil  34.5667   76.1000     25.36        41         100   \n",
       "2            albany  42.6001  -73.9662     52.95        91         100   \n",
       "3              boli  45.7667  130.5167     -0.38        76          98   \n",
       "4    mount pleasant  32.7941  -79.8626     69.10        83           0   \n",
       "..              ...      ...       ...       ...       ...         ...   \n",
       "557          kemise  10.7167   39.8667     61.50        48           6   \n",
       "558          shingu  33.7333  135.9833     46.00        73          92   \n",
       "559        sabancuy  18.9667  -91.1833     87.24        56          13   \n",
       "560         chibuto -24.6867   33.5306     66.85        84           0   \n",
       "561           acari -15.4311  -74.6158     78.55        54           0   \n",
       "\n",
       "     Wind Speed Country        Date  \n",
       "0          6.53      MM  1669838284  \n",
       "1          2.64      IN  1669838285  \n",
       "2          5.99      US  1669838286  \n",
       "3         14.07      CN  1669838286  \n",
       "4          9.22      US  1669838082  \n",
       "..          ...     ...         ...  \n",
       "557        2.26      ET  1669838553  \n",
       "558        6.98      JP  1669838553  \n",
       "559        6.29      MX  1669838553  \n",
       "560        4.88      MZ  1669838554  \n",
       "561       11.43      PE  1669838283  \n",
       "\n",
       "[562 rows x 9 columns]"
      ]
     },
     "execution_count": 7,
     "metadata": {},
     "output_type": "execute_result"
    }
   ],
   "source": [
    "# create a data frame from cities, lat, and temp\n",
    "weather_dict = {\n",
    "    \"City\": found_cities,\n",
    "    \"Lat\": lats,\n",
    "    \"Lng\": lons,\n",
    "    \"Max Temp\": temps,\n",
    "    \"Humidity\": hums,\n",
    "    \"Cloudiness\": clouds,\n",
    "    \"Wind Speed\": wnd_speed,\n",
    "    \"Country\": country,\n",
    "    \"Date\": date\n",
    "}\n",
    "weather_data = pd.DataFrame(weather_dict)\n",
    "weather_data"
   ]
  },
  {
   "cell_type": "code",
   "execution_count": 8,
   "metadata": {},
   "outputs": [],
   "source": [
    "# export DataFrame to CSV file\n",
    "weather_data.to_csv(\"../Resources/weather.csv\")"
   ]
  },
  {
   "cell_type": "code",
   "execution_count": 9,
   "metadata": {},
   "outputs": [
    {
     "data": {
      "text/html": [
       "<div>\n",
       "<style scoped>\n",
       "    .dataframe tbody tr th:only-of-type {\n",
       "        vertical-align: middle;\n",
       "    }\n",
       "\n",
       "    .dataframe tbody tr th {\n",
       "        vertical-align: top;\n",
       "    }\n",
       "\n",
       "    .dataframe thead th {\n",
       "        text-align: right;\n",
       "    }\n",
       "</style>\n",
       "<table border=\"1\" class=\"dataframe\">\n",
       "  <thead>\n",
       "    <tr style=\"text-align: right;\">\n",
       "      <th></th>\n",
       "      <th>Lat</th>\n",
       "      <th>Lng</th>\n",
       "      <th>Max Temp</th>\n",
       "      <th>Humidity</th>\n",
       "      <th>Cloudiness</th>\n",
       "      <th>Wind Speed</th>\n",
       "      <th>Date</th>\n",
       "    </tr>\n",
       "  </thead>\n",
       "  <tbody>\n",
       "    <tr>\n",
       "      <th>count</th>\n",
       "      <td>562.000000</td>\n",
       "      <td>562.000000</td>\n",
       "      <td>562.000000</td>\n",
       "      <td>562.000000</td>\n",
       "      <td>562.000000</td>\n",
       "      <td>562.000000</td>\n",
       "      <td>5.620000e+02</td>\n",
       "    </tr>\n",
       "    <tr>\n",
       "      <th>mean</th>\n",
       "      <td>19.017438</td>\n",
       "      <td>15.976275</td>\n",
       "      <td>51.680018</td>\n",
       "      <td>74.316726</td>\n",
       "      <td>65.065836</td>\n",
       "      <td>8.441246</td>\n",
       "      <td>1.669838e+09</td>\n",
       "    </tr>\n",
       "    <tr>\n",
       "      <th>std</th>\n",
       "      <td>33.969069</td>\n",
       "      <td>91.641089</td>\n",
       "      <td>30.150427</td>\n",
       "      <td>20.891095</td>\n",
       "      <td>37.803898</td>\n",
       "      <td>6.516533</td>\n",
       "      <td>1.120602e+02</td>\n",
       "    </tr>\n",
       "    <tr>\n",
       "      <th>min</th>\n",
       "      <td>-54.800000</td>\n",
       "      <td>-179.166700</td>\n",
       "      <td>-39.460000</td>\n",
       "      <td>11.000000</td>\n",
       "      <td>0.000000</td>\n",
       "      <td>0.000000</td>\n",
       "      <td>1.669838e+09</td>\n",
       "    </tr>\n",
       "    <tr>\n",
       "      <th>max</th>\n",
       "      <td>78.218600</td>\n",
       "      <td>179.316700</td>\n",
       "      <td>101.970000</td>\n",
       "      <td>100.000000</td>\n",
       "      <td>100.000000</td>\n",
       "      <td>46.950000</td>\n",
       "      <td>1.669839e+09</td>\n",
       "    </tr>\n",
       "    <tr>\n",
       "      <th>25%</th>\n",
       "      <td>-7.719200</td>\n",
       "      <td>-64.506900</td>\n",
       "      <td>31.450000</td>\n",
       "      <td>66.000000</td>\n",
       "      <td>24.250000</td>\n",
       "      <td>3.695000</td>\n",
       "      <td>1.669838e+09</td>\n",
       "    </tr>\n",
       "    <tr>\n",
       "      <th>50%</th>\n",
       "      <td>21.386800</td>\n",
       "      <td>23.057900</td>\n",
       "      <td>62.055000</td>\n",
       "      <td>79.500000</td>\n",
       "      <td>77.000000</td>\n",
       "      <td>6.755000</td>\n",
       "      <td>1.669838e+09</td>\n",
       "    </tr>\n",
       "    <tr>\n",
       "      <th>75%</th>\n",
       "      <td>48.012275</td>\n",
       "      <td>98.418100</td>\n",
       "      <td>76.005000</td>\n",
       "      <td>90.000000</td>\n",
       "      <td>100.000000</td>\n",
       "      <td>11.430000</td>\n",
       "      <td>1.669838e+09</td>\n",
       "    </tr>\n",
       "  </tbody>\n",
       "</table>\n",
       "</div>"
      ],
      "text/plain": [
       "              Lat         Lng    Max Temp    Humidity  Cloudiness  Wind Speed  \\\n",
       "count  562.000000  562.000000  562.000000  562.000000  562.000000  562.000000   \n",
       "mean    19.017438   15.976275   51.680018   74.316726   65.065836    8.441246   \n",
       "std     33.969069   91.641089   30.150427   20.891095   37.803898    6.516533   \n",
       "min    -54.800000 -179.166700  -39.460000   11.000000    0.000000    0.000000   \n",
       "max     78.218600  179.316700  101.970000  100.000000  100.000000   46.950000   \n",
       "25%     -7.719200  -64.506900   31.450000   66.000000   24.250000    3.695000   \n",
       "50%     21.386800   23.057900   62.055000   79.500000   77.000000    6.755000   \n",
       "75%     48.012275   98.418100   76.005000   90.000000  100.000000   11.430000   \n",
       "\n",
       "               Date  \n",
       "count  5.620000e+02  \n",
       "mean   1.669838e+09  \n",
       "std    1.120602e+02  \n",
       "min    1.669838e+09  \n",
       "max    1.669839e+09  \n",
       "25%    1.669838e+09  \n",
       "50%    1.669838e+09  \n",
       "75%    1.669838e+09  "
      ]
     },
     "execution_count": 9,
     "metadata": {},
     "output_type": "execute_result"
    }
   ],
   "source": [
    "num_data = weather_data[['Lat', 'Lng', 'Max Temp', 'Humidity', 'Cloudiness', 'Wind Speed','Date']]\n",
    "agg_df = num_data.agg(['count','mean','std','min','max'])\n",
    "quantiles_df = num_data.quantile([.25,.5,.75])\n",
    "agg_df = pd.concat([agg_df, quantiles_df], axis=0)\n",
    "agg_df = agg_df.rename(index={\n",
    "    0.25: '25%',\n",
    "    0.5: '50%',\n",
    "    0.75: '75%',  \n",
    "                    })\n",
    "agg_df"
   ]
  },
  {
   "cell_type": "markdown",
   "metadata": {},
   "source": [
    "## Inspect the data and remove the cities where the humidity > 100%.\n",
    "----\n",
    "Skip this step if there are no cities that have humidity > 100%. "
   ]
  },
  {
   "cell_type": "code",
   "execution_count": 10,
   "metadata": {},
   "outputs": [
    {
     "data": {
      "text/html": [
       "<div>\n",
       "<style scoped>\n",
       "    .dataframe tbody tr th:only-of-type {\n",
       "        vertical-align: middle;\n",
       "    }\n",
       "\n",
       "    .dataframe tbody tr th {\n",
       "        vertical-align: top;\n",
       "    }\n",
       "\n",
       "    .dataframe thead th {\n",
       "        text-align: right;\n",
       "    }\n",
       "</style>\n",
       "<table border=\"1\" class=\"dataframe\">\n",
       "  <thead>\n",
       "    <tr style=\"text-align: right;\">\n",
       "      <th></th>\n",
       "      <th>City</th>\n",
       "      <th>Lat</th>\n",
       "      <th>Lng</th>\n",
       "      <th>Max Temp</th>\n",
       "      <th>Humidity</th>\n",
       "      <th>Cloudiness</th>\n",
       "      <th>Wind Speed</th>\n",
       "      <th>Country</th>\n",
       "      <th>Date</th>\n",
       "    </tr>\n",
       "  </thead>\n",
       "  <tbody>\n",
       "    <tr>\n",
       "      <th>0</th>\n",
       "      <td>monywa</td>\n",
       "      <td>22.1167</td>\n",
       "      <td>95.1333</td>\n",
       "      <td>71.17</td>\n",
       "      <td>64</td>\n",
       "      <td>2</td>\n",
       "      <td>6.53</td>\n",
       "      <td>MM</td>\n",
       "      <td>1669838284</td>\n",
       "    </tr>\n",
       "    <tr>\n",
       "      <th>1</th>\n",
       "      <td>kargil</td>\n",
       "      <td>34.5667</td>\n",
       "      <td>76.1000</td>\n",
       "      <td>25.36</td>\n",
       "      <td>41</td>\n",
       "      <td>100</td>\n",
       "      <td>2.64</td>\n",
       "      <td>IN</td>\n",
       "      <td>1669838285</td>\n",
       "    </tr>\n",
       "    <tr>\n",
       "      <th>2</th>\n",
       "      <td>albany</td>\n",
       "      <td>42.6001</td>\n",
       "      <td>-73.9662</td>\n",
       "      <td>52.95</td>\n",
       "      <td>91</td>\n",
       "      <td>100</td>\n",
       "      <td>5.99</td>\n",
       "      <td>US</td>\n",
       "      <td>1669838286</td>\n",
       "    </tr>\n",
       "    <tr>\n",
       "      <th>3</th>\n",
       "      <td>boli</td>\n",
       "      <td>45.7667</td>\n",
       "      <td>130.5167</td>\n",
       "      <td>-0.38</td>\n",
       "      <td>76</td>\n",
       "      <td>98</td>\n",
       "      <td>14.07</td>\n",
       "      <td>CN</td>\n",
       "      <td>1669838286</td>\n",
       "    </tr>\n",
       "    <tr>\n",
       "      <th>4</th>\n",
       "      <td>mount pleasant</td>\n",
       "      <td>32.7941</td>\n",
       "      <td>-79.8626</td>\n",
       "      <td>69.10</td>\n",
       "      <td>83</td>\n",
       "      <td>0</td>\n",
       "      <td>9.22</td>\n",
       "      <td>US</td>\n",
       "      <td>1669838082</td>\n",
       "    </tr>\n",
       "  </tbody>\n",
       "</table>\n",
       "</div>"
      ],
      "text/plain": [
       "             City      Lat       Lng  Max Temp  Humidity  Cloudiness  \\\n",
       "0          monywa  22.1167   95.1333     71.17        64           2   \n",
       "1          kargil  34.5667   76.1000     25.36        41         100   \n",
       "2          albany  42.6001  -73.9662     52.95        91         100   \n",
       "3            boli  45.7667  130.5167     -0.38        76          98   \n",
       "4  mount pleasant  32.7941  -79.8626     69.10        83           0   \n",
       "\n",
       "   Wind Speed Country        Date  \n",
       "0        6.53      MM  1669838284  \n",
       "1        2.64      IN  1669838285  \n",
       "2        5.99      US  1669838286  \n",
       "3       14.07      CN  1669838286  \n",
       "4        9.22      US  1669838082  "
      ]
     },
     "execution_count": 10,
     "metadata": {},
     "output_type": "execute_result"
    }
   ],
   "source": [
    "sorted_cities = weather_data[weather_data['Humidity'] <= 100]\n",
    "sorted_cities.head()"
   ]
  },
  {
   "cell_type": "markdown",
   "metadata": {},
   "source": [
    "## Plotting the Data\n",
    "* Use proper labeling of the plots using plot titles (including date of analysis) and axes labels.\n",
    "* Save the plotted figures as .pngs."
   ]
  },
  {
   "cell_type": "markdown",
   "metadata": {},
   "source": [
    "## Latitude vs. Temperature Plot"
   ]
  },
  {
   "cell_type": "code",
   "execution_count": 12,
   "metadata": {},
   "outputs": [
    {
     "data": {
      "text/plain": [
       "<Figure size 800.496x550.8 with 0 Axes>"
      ]
     },
     "metadata": {},
     "output_type": "display_data"
    }
   ],
   "source": [
    "import seaborn as sns\n",
    "sns.set()\n",
    "\n",
    "f = plt.figure(facecolor=(1,1,1), figsize=(11.118, 7.65))"
   ]
  },
  {
   "cell_type": "code",
   "execution_count": 15,
   "metadata": {},
   "outputs": [
    {
     "data": {
      "image/png": "[encoded data removed]",
      "text/plain": [
       "<Figure size 432x288 with 1 Axes>"
      ]
     },
     "metadata": {},
     "output_type": "display_data"
    }
   ],
   "source": [
    "ax1 = sorted_cities.plot.scatter(x='Lat',\n",
    "...                       y='Max Temp',\n",
    "...                       c='DarkBlue',\n",
    "                                )\n",
    "# ax1.title(\"Latitude vs. Temperature (%s)\" % time.strftime(\"%x\"))\n",
    "ax1.grid(True)\n",
    "plt.savefig('../assets/images/Fig1.png')"
   ]
  },
  {
   "cell_type": "markdown",
   "metadata": {},
   "source": [
    "## ( lat vs temp ) : \n",
    "    *from this plot one can that the closer to the equator (where Lat = 0) the hotter the max temp will be "
   ]
  },
  {
   "cell_type": "markdown",
   "metadata": {},
   "source": [
    "## Latitude vs. Humidity Plot"
   ]
  },
  {
   "cell_type": "code",
   "execution_count": 17,
   "metadata": {
    "scrolled": true
   },
   "outputs": [
    {
     "data": {
      "image/png": "[encoded data removed]",
      "text/plain": [
       "<Figure size 432x288 with 1 Axes>"
      ]
     },
     "metadata": {},
     "output_type": "display_data"
    }
   ],
   "source": [
    "ax1 = sorted_cities.plot.scatter(x='Lat',\n",
    "...                       y='Humidity',\n",
    "...                       c='DarkBlue',\n",
    "                                )\n",
    "ax1.grid(True)\n",
    "plt.savefig('../assets/images/Fig2.png')"
   ]
  },
  {
   "cell_type": "markdown",
   "metadata": {},
   "source": [
    "## Observation ( lat vs hum ) :"
   ]
  },
  {
   "cell_type": "markdown",
   "metadata": {},
   "source": [
    "## Latitude vs. Cloudiness Plot"
   ]
  },
  {
   "cell_type": "code",
   "execution_count": 18,
   "metadata": {},
   "outputs": [
    {
     "data": {
      "image/png": "[encoded data removed]",
      "text/plain": [
       "<Figure size 432x288 with 1 Axes>"
      ]
     },
     "metadata": {},
     "output_type": "display_data"
    }
   ],
   "source": [
    "ax1 = sorted_cities.plot.scatter(x='Lat',\n",
    "...                       y='Cloudiness',\n",
    "...                       c='DarkBlue',\n",
    "                                )\n",
    "ax1.grid(True)\n",
    "plt.savefig('../assets/images/Fig3.png')"
   ]
  },
  {
   "cell_type": "markdown",
   "metadata": {},
   "source": [
    "## ( lat vs clouds ) : \n",
    "    *cloudiness seems to be indepedent for most part from latitude (there is no strong correlation)"
   ]
  },
  {
   "cell_type": "markdown",
   "metadata": {},
   "source": [
    "## Latitude vs. Wind Speed Plot"
   ]
  },
  {
   "cell_type": "code",
   "execution_count": 19,
   "metadata": {},
   "outputs": [
    {
     "data": {
      "image/png": "[encoded data removed]",
      "text/plain": [
       "<Figure size 432x288 with 1 Axes>"
      ]
     },
     "metadata": {},
     "output_type": "display_data"
    }
   ],
   "source": [
    "ax1 = sorted_cities.plot.scatter(x='Lat',\n",
    "...                       y='Wind Speed',\n",
    "...                       c='DarkBlue',\n",
    "                                )\n",
    "ax1.grid(True)\n",
    "plt.savefig('../assets/images/Fig4.png')"
   ]
  },
  {
   "cell_type": "markdown",
   "metadata": {},
   "source": [
    "## ( lat vs wind speed ) :\n",
    "    *like cloudiness also seems to have no strong correlation to latitude"
   ]
  },
  {
   "cell_type": "markdown",
   "metadata": {},
   "source": [
    "## Linear Regression"
   ]
  },
  {
   "cell_type": "code",
   "execution_count": 16,
   "metadata": {},
   "outputs": [],
   "source": [
    "# This time, separate the plots into Northern Hemisphere (greater than or equal to 0 degrees latitude) \n",
    "# and Southern Hemisphere (less than 0 degrees latitude):\n",
    "north_cities = sorted_cities[sorted_cities['Lat'] >= 0]\n",
    "south_cities = sorted_cities[sorted_cities['Lat'] < 0 ]"
   ]
  },
  {
   "cell_type": "markdown",
   "metadata": {},
   "source": [
    "####  Northern Hemisphere - Max Temp vs. Latitude Linear Regression"
   ]
  },
  {
   "cell_type": "code",
   "execution_count": 17,
   "metadata": {},
   "outputs": [
    {
     "name": "stdout",
     "output_type": "stream",
     "text": [
      "The r-value is: -0.6291491099860176\n"
     ]
    },
    {
     "data": {
      "image/png": "[encoded data removed]",
      "text/plain": [
       "<Figure size 432x288 with 1 Axes>"
      ]
     },
     "metadata": {
      "needs_background": "light"
     },
     "output_type": "display_data"
    }
   ],
   "source": [
    "ax1 = north_cities.plot.scatter(x='Lat',\n",
    "...                       y='Max Temp',\n",
    "...                       c='DarkBlue',\n",
    "                                )\n",
    "(slope, intercept, rvalue, pvalue, stderr) = linregress(north_cities['Lat'], north_cities['Max Temp'])\n",
    "line_eq = \"y = \" + str(round(slope,2)) + \"x + \" + str(round(intercept,2))\n",
    "print(f\"The r-value is: {rvalue}\")\n",
    "regress_values = north_cities['Lat'] * slope + intercept\n",
    "ax1.plot(north_cities['Lat'],regress_values,\"r-\")\n",
    "ax1.grid()\n",
    "\n",
    "ax1.annotate(line_eq,(5.8,0.8),fontsize=15,color=\"red\")\n",
    "plt.savefig('output_data/NorthlatVsMaxTemp.png')"
   ]
  },
  {
   "cell_type": "markdown",
   "metadata": {},
   "source": [
    "####  Southern Hemisphere - Max Temp vs. Latitude Linear Regression"
   ]
  },
  {
   "cell_type": "code",
   "execution_count": 18,
   "metadata": {
    "scrolled": true
   },
   "outputs": [
    {
     "name": "stdout",
     "output_type": "stream",
     "text": [
      "The r-value is: 0.7926937384433805\n"
     ]
    },
    {
     "data": {
      "image/png": "[encoded data removed]",
      "text/plain": [
       "<Figure size 432x288 with 1 Axes>"
      ]
     },
     "metadata": {
      "needs_background": "light"
     },
     "output_type": "display_data"
    }
   ],
   "source": [
    "ax1 = south_cities.plot.scatter(x='Lat',\n",
    "...                       y='Max Temp',\n",
    "...                       c='DarkBlue',\n",
    "                                )\n",
    "(slope, intercept, rvalue, pvalue, stderr) = linregress(south_cities['Lat'], south_cities['Max Temp'])\n",
    "line_eq = \"y = \" + str(round(slope,2)) + \"x + \" + str(round(intercept,2))\n",
    "print(f\"The r-value is: {rvalue}\")\n",
    "regress_values = south_cities['Lat'] * slope + intercept\n",
    "ax1.plot(south_cities['Lat'],regress_values,\"r-\")\n",
    "ax1.grid()\n",
    "ax1.annotate(line_eq,(-50.8,0.8),fontsize=15,color=\"red\")\n",
    "plt.savefig('output_data/SouthlatVsMaxTemp.png')"
   ]
  },
  {
   "cell_type": "markdown",
   "metadata": {},
   "source": [
    "# Max Temp vs. Latitude Linear Regression :\n",
    " * For both north and south hemisphere there is a strong correlation between Lat and Max temp,  if both graphs x-axis were to start at 0 they would have about the same r value. This r vlaue can transalte into the fact that temperature decreases as you move away from 0 latitude."
   ]
  },
  {
   "cell_type": "markdown",
   "metadata": {},
   "source": [
    "####  Northern Hemisphere - Humidity (%) vs. Latitude Linear Regression"
   ]
  },
  {
   "cell_type": "code",
   "execution_count": 19,
   "metadata": {},
   "outputs": [
    {
     "name": "stdout",
     "output_type": "stream",
     "text": [
      "The r-value is: 0.05606981959634025\n"
     ]
    },
    {
     "data": {
      "image/png": "[encoded data removed]",
      "text/plain": [
       "<Figure size 432x288 with 1 Axes>"
      ]
     },
     "metadata": {
      "needs_background": "light"
     },
     "output_type": "display_data"
    }
   ],
   "source": [
    "\n",
    "ax1 = north_cities.plot.scatter(x='Lat',\n",
    "...                       y='Humidity',\n",
    "...                       c='DarkBlue',\n",
    "                                )\n",
    "(slope, intercept, rvalue, pvalue, stderr) = linregress(north_cities['Lat'], north_cities['Humidity'])\n",
    "print(f\"The r-value is: {rvalue}\")\n",
    "regress_values = north_cities['Lat'] * slope + intercept\n",
    "ax1.plot(north_cities['Lat'],regress_values,\"r-\")\n",
    "ax1.grid()\n",
    "line_eq = \"y = \" + str(round(slope,2)) + \"x + \" + str(round(intercept,2))\n",
    "ax1.annotate(line_eq,(5.8,0.8),fontsize=15,color=\"red\")\n",
    "plt.savefig('output_data/NorthlatVsHum.png')"
   ]
  },
  {
   "cell_type": "markdown",
   "metadata": {},
   "source": [
    "####  Southern Hemisphere - Humidity (%) vs. Latitude Linear Regression"
   ]
  },
  {
   "cell_type": "code",
   "execution_count": 20,
   "metadata": {},
   "outputs": [
    {
     "name": "stdout",
     "output_type": "stream",
     "text": [
      "The r-value is: -0.24218485043710475\n"
     ]
    },
    {
     "data": {
      "image/png": "[encoded data removed]",
      "text/plain": [
       "<Figure size 432x288 with 1 Axes>"
      ]
     },
     "metadata": {
      "needs_background": "light"
     },
     "output_type": "display_data"
    }
   ],
   "source": [
    "ax1 = south_cities.plot.scatter(x='Lat',\n",
    "...                       y='Humidity',\n",
    "...                       c='DarkBlue',\n",
    "                                )\n",
    "(slope, intercept, rvalue, pvalue, stderr) = linregress(south_cities['Lat'], south_cities['Humidity'])\n",
    "print(f\"The r-value is: {rvalue}\")\n",
    "regress_values = south_cities['Lat'] * slope + intercept\n",
    "ax1.plot(south_cities['Lat'],regress_values,\"r-\")\n",
    "ax1.grid()\n",
    "line_eq = \"y = \" + str(round(slope,2)) + \"x + \" + str(round(intercept,2))\n",
    "ax1.annotate(line_eq,(-25,20),fontsize=15,color=\"red\")\n",
    "plt.savefig('output_data/SouthlatVsHum.png')"
   ]
  },
  {
   "cell_type": "markdown",
   "metadata": {},
   "source": [
    "# Humidity(%) vs. Latitude Linear Regression :\n",
    " * In the Southern hemisphere a stronger correlation between Latitude and Humidity was found. Although it is still low as you approach the equautor or 0 latitude humidity increases.\n",
    " ----------------------------------"
   ]
  },
  {
   "cell_type": "markdown",
   "metadata": {},
   "source": [
    "####  Northern Hemisphere - Cloudiness (%) vs. Latitude Linear Regression"
   ]
  },
  {
   "cell_type": "code",
   "execution_count": 21,
   "metadata": {},
   "outputs": [
    {
     "name": "stdout",
     "output_type": "stream",
     "text": [
      "The r-value is: -0.001333126876341253\n"
     ]
    },
    {
     "data": {
      "image/png": "[encoded data removed]",
      "text/plain": [
       "<Figure size 432x288 with 1 Axes>"
      ]
     },
     "metadata": {
      "needs_background": "light"
     },
     "output_type": "display_data"
    }
   ],
   "source": [
    "ax1 = north_cities.plot.scatter(x='Lat',\n",
    "...                       y='Cloudiness',\n",
    "...                       c='DarkBlue',\n",
    "                                )\n",
    "(slope, intercept, rvalue, pvalue, stderr) = linregress(north_cities['Lat'], north_cities['Cloudiness'])\n",
    "print(f\"The r-value is: {rvalue}\")\n",
    "regress_values = north_cities['Lat'] * slope + intercept\n",
    "ax1.plot(north_cities['Lat'],regress_values,\"r-\")\n",
    "ax1.grid()\n",
    "line_eq = \"y = \" + str(round(slope,2)) + \"x + \" + str(round(intercept,2))\n",
    "ax1.annotate(line_eq,(7,5.8),fontsize=15,color=\"red\")\n",
    "plt.savefig('output_data/NorthlatVsCloud.png')"
   ]
  },
  {
   "cell_type": "markdown",
   "metadata": {},
   "source": [
    "####  Southern Hemisphere - Cloudiness (%) vs. Latitude Linear Regression"
   ]
  },
  {
   "cell_type": "code",
   "execution_count": 22,
   "metadata": {},
   "outputs": [
    {
     "name": "stdout",
     "output_type": "stream",
     "text": [
      "The r-value is: -0.03289763125630871\n"
     ]
    },
    {
     "data": {
      "image/png": "[encoded data removed]",
      "text/plain": [
       "<Figure size 432x288 with 1 Axes>"
      ]
     },
     "metadata": {
      "needs_background": "light"
     },
     "output_type": "display_data"
    }
   ],
   "source": [
    "ax1 = south_cities.plot.scatter(x='Lat',\n",
    "...                       y='Cloudiness',\n",
    "...                       c='DarkBlue',\n",
    "                                )\n",
    "(slope, intercept, rvalue, pvalue, stderr) = linregress(south_cities['Lat'], south_cities['Cloudiness'])\n",
    "print(f\"The r-value is: {rvalue}\")\n",
    "regress_values = south_cities['Lat'] * slope + intercept\n",
    "ax1.plot(south_cities['Lat'],regress_values,\"r-\")\n",
    "ax1.grid()\n",
    "line_eq = \"y = \" + str(round(slope,2)) + \"x + \" + str(round(intercept,2))\n",
    "ax1.annotate(line_eq,(-10,0.8),fontsize=15,color=\"red\")\n",
    "plt.savefig('output_data/SouthlatVsCloud.png')"
   ]
  },
  {
   "cell_type": "markdown",
   "metadata": {},
   "source": [
    "# Cloudiness(%) vs. Latitude Linear Regression :\n",
    " * There is little to no correlation between latitude and cloudiness in both the southern and northern hemisphere."
   ]
  },
  {
   "cell_type": "markdown",
   "metadata": {},
   "source": [
    "####  Northern Hemisphere - Wind Speed (mph) vs. Latitude Linear Regression"
   ]
  },
  {
   "cell_type": "code",
   "execution_count": 23,
   "metadata": {},
   "outputs": [
    {
     "name": "stdout",
     "output_type": "stream",
     "text": [
      "The r-value is: -0.055566053976199944\n"
     ]
    },
    {
     "data": {
      "image/png": "[encoded data removed]",
      "text/plain": [
       "<Figure size 432x288 with 1 Axes>"
      ]
     },
     "metadata": {
      "needs_background": "light"
     },
     "output_type": "display_data"
    }
   ],
   "source": [
    "ax1 = north_cities.plot.scatter(x='Lat',\n",
    "...                       y='Wind Speed',\n",
    "...                       c='DarkBlue',\n",
    "                                )\n",
    "(slope, intercept, rvalue, pvalue, stderr) = linregress(north_cities['Lat'], north_cities['Wind Speed'])\n",
    "print(f\"The r-value is: {rvalue}\")\n",
    "regress_values = north_cities['Lat'] * slope + intercept\n",
    "ax1.plot(north_cities['Lat'],regress_values,\"r-\")\n",
    "ax1.grid()\n",
    "line_eq = \"y = \" + str(round(slope,3)) + \"x + \" + str(round(intercept,2))\n",
    "ax1.annotate(line_eq,(5.8,10.8),fontsize=15,color=\"red\")\n",
    "plt.savefig('output_data/NorthlatVsWind.png')"
   ]
  },
  {
   "cell_type": "markdown",
   "metadata": {},
   "source": [
    "####  Southern Hemisphere - Wind Speed (mph) vs. Latitude Linear Regression"
   ]
  },
  {
   "cell_type": "code",
   "execution_count": 24,
   "metadata": {},
   "outputs": [
    {
     "name": "stdout",
     "output_type": "stream",
     "text": [
      "The r-value is: -0.005540265298778584\n"
     ]
    },
    {
     "data": {
      "image/png": "[encoded data removed]",
      "text/plain": [
       "<Figure size 432x288 with 1 Axes>"
      ]
     },
     "metadata": {
      "needs_background": "light"
     },
     "output_type": "display_data"
    }
   ],
   "source": [
    "ax1 = south_cities.plot.scatter(x='Lat',\n",
    "...                       y='Wind Speed',\n",
    "...                       c='DarkBlue',\n",
    "                                )\n",
    "(slope, intercept, rvalue, pvalue, stderr) = linregress(south_cities['Lat'], south_cities['Wind Speed'])\n",
    "print(f\"The r-value is: {rvalue}\")\n",
    "regress_values = south_cities['Lat'] * slope + intercept\n",
    "ax1.plot(south_cities['Lat'],regress_values,\"r-\")\n",
    "ax1.grid()\n",
    "line_eq = \"y = \" + str(round(slope,3)) + \"x + \" + str(round(intercept,2))\n",
    "ax1.annotate(line_eq,(-54.8,-0.2),fontsize=15,color=\"red\")\n",
    "plt.savefig('output_data/SouthlatVsWind.png')"
   ]
  },
  {
   "cell_type": "markdown",
   "metadata": {},
   "source": [
    "# Wind Speed (mph) vs. Latitude Linear Regression :\n",
    " * There is little to no correlation between wind speed and latitude in both hemipsheres, although the r value is slightly more in the northern hempshere"
   ]
  },
  {
   "cell_type": "code",
   "execution_count": null,
   "metadata": {},
   "outputs": [],
   "source": []
  }
 ],
 "metadata": {
  "anaconda-cloud": {},
  "kernel_info": {
   "name": "python3"
  },
  "kernelspec": {
   "display_name": "Python 3 (ipykernel)",
   "language": "python",
   "name": "python3"
  },
  "language_info": {
   "codemirror_mode": {
    "name": "ipython",
    "version": 3
   },
   "file_extension": ".py",
   "mimetype": "text/x-python",
   "name": "python",
   "nbconvert_exporter": "python",
   "pygments_lexer": "ipython3",
   "version": "3.9.12"
  },
  "latex_envs": {
   "LaTeX_envs_menu_present": true,
   "autoclose": false,
   "autocomplete": true,
   "bibliofile": "biblio.bib",
   "cite_by": "apalike",
   "current_citInitial": 1,
   "eqLabelWithNumbers": true,
   "eqNumInitial": 1,
   "hotkeys": {
    "equation": "Ctrl-E",
    "itemize": "Ctrl-I"
   },
   "labels_anchors": false,
   "latex_user_defs": false,
   "report_style_numbering": false,
   "user_envs_cfg": false
  },
  "nteract": {
   "version": "0.12.3"
  }
 },
 "nbformat": 4,
 "nbformat_minor": 2
}
