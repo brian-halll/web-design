{
 "cells": [
  {
   "cell_type": "markdown",
   "metadata": {},
   "source": [
    "# WeatherPy\n",
    "----\n",
    "\n",
    "#### Note\n",
    "* Instructions have been included for each segment. You do not have to follow them exactly, but they are included to help you think through the steps."
   ]
  },
  {
   "cell_type": "code",
   "execution_count": 3,
   "metadata": {},
   "outputs": [],
   "source": [
    "# pip install citipy"
   ]
  },
  {
   "cell_type": "code",
   "execution_count": 2,
   "metadata": {
    "scrolled": true
   },
   "outputs": [],
   "source": [
    "# Dependencies and Setup\n",
    "import matplotlib.pyplot as plt\n",
    "import pandas as pd\n",
    "import numpy as np\n",
    "import requests\n",
    "import time\n",
    "from scipy.stats import linregress\n",
    "from pprint import pprint\n",
    "\n",
    "# Import API key\n",
    "from api_keys import weather_api_key\n",
    "\n",
    "# Incorporated citipy to determine city based on latitude and longitude\n",
    "from citipy import citipy\n",
    "\n",
    "# Output File (CSV)\n",
    "output_data_file = \"output_data/cities.csv\"\n",
    "\n",
    "# Range of latitudes and longitudes\n",
    "lat_range = (-90, 90)\n",
    "lng_range = (-180, 180)"
   ]
  },
  {
   "cell_type": "markdown",
   "metadata": {},
   "source": [
    "## Generate Cities List"
   ]
  },
  {
   "cell_type": "code",
   "execution_count": 3,
   "metadata": {},
   "outputs": [
    {
     "data": {
      "text/plain": [
       "604"
      ]
     },
     "execution_count": 3,
     "metadata": {},
     "output_type": "execute_result"
    }
   ],
   "source": [
    "# List for holding lat_lngs and cities\n",
    "lat_lngs = []\n",
    "cities = []\n",
    "\n",
    "# Create a set of random lat and lng combinations\n",
    "lats = np.random.uniform(lat_range[0], lat_range[1], size=1500)\n",
    "lngs = np.random.uniform(lng_range[0], lng_range[1], size=1500)\n",
    "lat_lngs = zip(lats, lngs)\n",
    "\n",
    "# Identify nearest city for each lat, lng combination\n",
    "for lat_lng in lat_lngs:\n",
    "    city = citipy.nearest_city(lat_lng[0], lat_lng[1]).city_name\n",
    "    \n",
    "    # If the city is unique, then add it to a our cities list\n",
    "    if city not in cities:\n",
    "        cities.append(city)\n",
    "\n",
    "# Print the city count to confirm sufficient count\n",
    "len(cities)"
   ]
  },
  {
   "cell_type": "markdown",
   "metadata": {},
   "source": [
    "### Perform API Calls\n",
    "* Perform a weather check on each city using a series of successive API calls.\n",
    "* Include a print log of each city as it'sbeing processed (with the city number and city name).\n"
   ]
  },
  {
   "cell_type": "code",
   "execution_count": 4,
   "metadata": {},
   "outputs": [],
   "source": [
    "url = \"http://api.openweathermap.org/data/2.5/weather?\"\n",
    "units = \"imperial\"\n",
    "\n",
    "# Build partial query URL\n",
    "query_url = f\"{url}appid={weather_api_key}&units={units}&q=\""
   ]
  },
  {
   "cell_type": "code",
   "execution_count": 5,
   "metadata": {},
   "outputs": [
    {
     "name": "stdout",
     "output_type": "stream",
     "text": [
      "{'base': 'stations',\n",
      " 'clouds': {'all': 100},\n",
      " 'cod': 200,\n",
      " 'coord': {'lat': -46.6, 'lon': 168.3333},\n",
      " 'dt': 1658936830,\n",
      " 'id': 2206939,\n",
      " 'main': {'feels_like': 43.23,\n",
      "          'grnd_level': 997,\n",
      "          'humidity': 89,\n",
      "          'pressure': 1000,\n",
      "          'sea_level': 1000,\n",
      "          'temp': 47.8,\n",
      "          'temp_max': 47.8,\n",
      "          'temp_min': 47.8},\n",
      " 'name': 'Bluff',\n",
      " 'sys': {'country': 'NZ',\n",
      "         'id': 2008959,\n",
      "         'sunrise': 1658952811,\n",
      "         'sunset': 1658986355,\n",
      "         'type': 2},\n",
      " 'timezone': 43200,\n",
      " 'visibility': 10000,\n",
      " 'weather': [{'description': 'overcast clouds',\n",
      "              'icon': '04n',\n",
      "              'id': 804,\n",
      "              'main': 'Clouds'}],\n",
      " 'wind': {'deg': 128, 'gust': 11.86, 'speed': 10.22}}\n"
     ]
    }
   ],
   "source": [
    "response = requests.get(query_url + city).json()\n",
    "pprint(response)"
   ]
  },
  {
   "cell_type": "code",
   "execution_count": 6,
   "metadata": {},
   "outputs": [
    {
     "name": "stdout",
     "output_type": "stream",
     "text": [
      "Beginning Data Retrieval...\n",
      "------------------------------\n",
      "Processing record 0 | provideniya\n",
      "Processing record 1 | ushuaia\n",
      "Processing record 2 | chapais\n",
      "Processing record 3 | sitka\n",
      "Processing record 4 | chuy\n",
      "Processing record 5 | elizabeth city\n",
      "Processing record 6 | khatanga\n",
      "Processing record 7 | georgetown\n",
      "Processing record 8 | sola\n",
      "Processing record 9 | hofn\n",
      "Processing record 10 | hamilton\n",
      "Processing record 11 | mahebourg\n",
      "Processing record 12 | marsh harbour\n",
      "Processing record 13 | hithadhoo\n",
      "Processing record 14 | barrow\n",
      "Processing record 15 | longyearbyen\n",
      "Processing record 16 | mataura\n",
      "Processing record 17 | bengkulu\n",
      "tumannyy not found. Skipping...\n",
      "Processing record 18 | punta arenas\n",
      "Processing record 19 | batticaloa\n",
      "Processing record 20 | san cristobal\n",
      "Processing record 21 | vila\n",
      "Processing record 22 | tuktoyaktuk\n",
      "Processing record 23 | idritsa\n",
      "kuche not found. Skipping...\n",
      "mocambique not found. Skipping...\n",
      "Processing record 24 | bethel\n",
      "Processing record 25 | butaritari\n",
      "Processing record 26 | aklavik\n",
      "Processing record 27 | aneho\n",
      "Processing record 28 | qaanaaq\n",
      "Processing record 29 | lure\n",
      "Processing record 30 | hobart\n",
      "Processing record 31 | bredasdorp\n",
      "Processing record 32 | bambous virieux\n",
      "Processing record 33 | norden\n",
      "Processing record 34 | novonikolayevskiy\n",
      "Processing record 35 | avarua\n",
      "Processing record 36 | dikson\n",
      "Processing record 37 | salalah\n",
      "Processing record 38 | ilulissat\n",
      "Processing record 39 | debre tabor\n",
      "Processing record 40 | tiksi\n",
      "Processing record 41 | bluff\n",
      "Processing record 42 | vanimo\n",
      "Processing record 43 | chokurdakh\n",
      "Processing record 44 | rikitea\n",
      "Processing record 45 | jamestown\n",
      "Processing record 46 | albany\n",
      "Processing record 47 | eureka\n",
      "Processing record 48 | narsaq\n",
      "Processing record 49 | yellowknife\n",
      "Processing record 50 | tasiilaq\n",
      "Processing record 51 | lavrentiya\n",
      "Processing record 52 | hermanus\n",
      "Processing record 53 | bladel\n",
      "Processing record 54 | ugoofaaru\n",
      "Processing record 55 | nanortalik\n",
      "sorvag not found. Skipping...\n",
      "Processing record 56 | port alfred\n",
      "Processing record 57 | panzhihua\n",
      "Processing record 58 | airai\n",
      "Processing record 59 | mount gambier\n",
      "Processing record 60 | caravelas\n",
      "Processing record 61 | namatanai\n",
      "Processing record 62 | lebu\n",
      "Processing record 63 | katsuura\n",
      "Processing record 64 | huarmey\n",
      "Processing record 65 | kapaa\n",
      "Processing record 66 | xingyi\n",
      "bur gabo not found. Skipping...\n",
      "Processing record 67 | ponta do sol\n",
      "Processing record 68 | east london\n",
      "Processing record 69 | kawalu\n",
      "attawapiskat not found. Skipping...\n",
      "Processing record 70 | vaini\n",
      "Processing record 71 | madawaska\n",
      "Processing record 72 | busselton\n",
      "Processing record 73 | arraial do cabo\n",
      "Processing record 74 | isiro\n",
      "Processing record 75 | kulhudhuffushi\n",
      "Processing record 76 | bathsheba\n",
      "Processing record 77 | mogadishu\n",
      "nizhneyansk not found. Skipping...\n",
      "Processing record 78 | atuona\n",
      "Processing record 79 | trincomalee\n",
      "Processing record 80 | koster\n",
      "Processing record 81 | itoman\n",
      "Processing record 82 | ivanino\n",
      "Processing record 83 | ladario\n",
      "Processing record 84 | hualmay\n",
      "Processing record 85 | turki\n",
      "Processing record 86 | kaitangata\n",
      "Processing record 87 | westport\n",
      "Processing record 88 | esil\n",
      "Processing record 89 | eganville\n",
      "Processing record 90 | kibala\n",
      "Processing record 91 | cherskiy\n",
      "Processing record 92 | leningradskiy\n",
      "Processing record 93 | victoria\n",
      "marcona not found. Skipping...\n",
      "Processing record 94 | cape town\n",
      "Processing record 95 | bammatyurt\n",
      "Processing record 96 | luba\n",
      "Processing record 97 | saint-augustin\n",
      "taolanaro not found. Skipping...\n",
      "Processing record 98 | broome\n",
      "Processing record 99 | guerrero negro\n",
      "Processing record 100 | semnan\n",
      "Processing record 101 | cockburn town\n",
      "Processing record 102 | barcelona\n",
      "Processing record 103 | puerto ayora\n",
      "Processing record 104 | ardahan\n",
      "illoqqortoormiut not found. Skipping...\n",
      "Processing record 105 | taltal\n",
      "Processing record 106 | sheridan\n",
      "Processing record 107 | smithers\n",
      "Processing record 108 | cayenne\n",
      "Processing record 109 | mar del plata\n",
      "Processing record 110 | kaset sombun\n",
      "Processing record 111 | kahului\n",
      "Processing record 112 | machali\n",
      "Processing record 113 | lasa\n",
      "Processing record 114 | port elizabeth\n",
      "Processing record 115 | nuuk\n",
      "Processing record 116 | russellville\n",
      "Processing record 117 | carnarvon\n",
      "Processing record 118 | lukovetskiy\n",
      "Processing record 119 | jishou\n",
      "Processing record 120 | severo-kurilsk\n",
      "Processing record 121 | kieta\n",
      "Processing record 122 | ancud\n",
      "Processing record 123 | avera\n",
      "Processing record 124 | skelleftea\n",
      "Processing record 125 | pangnirtung\n",
      "Processing record 126 | los llanos de aridane\n",
      "Processing record 127 | mitsamiouli\n",
      "Processing record 128 | inhambane\n",
      "Processing record 129 | rockland\n",
      "Processing record 130 | alofi\n",
      "Processing record 131 | nikolskoye\n",
      "Processing record 132 | saskylakh\n",
      "Processing record 133 | ribeira grande\n",
      "Processing record 134 | karratha\n",
      "Processing record 135 | ahipara\n",
      "Processing record 136 | olafsvik\n",
      "Processing record 137 | saint-philippe\n",
      "Processing record 138 | guarapari\n",
      "Processing record 139 | nioro\n",
      "barentsburg not found. Skipping...\n",
      "Processing record 140 | fort nelson\n",
      "Processing record 141 | yatou\n",
      "Processing record 142 | maseru\n",
      "Processing record 143 | monte alegre de sergipe\n",
      "Processing record 144 | diamantina\n",
      "Processing record 145 | dunedin\n",
      "Processing record 146 | zalantun\n",
      "Processing record 147 | dondo\n",
      "Processing record 148 | tunkas\n",
      "Processing record 149 | wanlaweyn\n",
      "Processing record 150 | hovd\n",
      "Processing record 151 | kovdor\n",
      "Processing record 152 | new norfolk\n",
      "Processing record 153 | natal\n",
      "Processing record 154 | constitucion\n",
      "Processing record 155 | marzuq\n",
      "Processing record 156 | namibe\n",
      "Processing record 157 | castro\n",
      "Processing record 158 | tshikapa\n",
      "Processing record 159 | acapulco\n",
      "Processing record 160 | ucluelet\n",
      "Processing record 161 | cidreira\n",
      "Processing record 162 | svetlogorsk\n",
      "tocantinopolis not found. Skipping...\n",
      "Processing record 163 | geraldton\n",
      "Processing record 164 | aqtobe\n",
      "Processing record 165 | abu dhabi\n",
      "Processing record 166 | hilo\n",
      "Processing record 167 | taoudenni\n",
      "Processing record 168 | shakhtinsk\n",
      "Processing record 169 | yulara\n",
      "Processing record 170 | majene\n",
      "Processing record 171 | requena\n",
      "Processing record 172 | sabzevar\n",
      "Processing record 173 | codajas\n",
      "Processing record 174 | kodiak\n",
      "Processing record 175 | faya\n",
      "Processing record 176 | alnashi\n",
      "umm jarr not found. Skipping...\n",
      "Processing record 177 | mahdasht\n",
      "Processing record 178 | vieques\n",
      "nguiu not found. Skipping...\n",
      "Processing record 179 | kavieng\n",
      "Processing record 180 | buraydah\n",
      "Processing record 181 | harbour breton\n",
      "Processing record 182 | kruisfontein\n",
      "Processing record 183 | tahoua\n",
      "Processing record 184 | esperance\n",
      "Processing record 185 | torbay\n",
      "okandja not found. Skipping...\n",
      "Processing record 186 | carambei\n",
      "Processing record 187 | azare\n",
      "Processing record 188 | zabol\n",
      "Processing record 189 | puerto escondido\n",
      "Processing record 190 | kijang\n",
      "Processing record 191 | vila velha\n",
      "Processing record 192 | balkhash\n",
      "Processing record 193 | teya\n",
      "Processing record 194 | college\n",
      "Processing record 195 | palaia fokaia\n",
      "Processing record 196 | pochutla\n",
      "Processing record 197 | moron\n",
      "Processing record 198 | rapid valley\n",
      "Processing record 199 | barreirinhas\n",
      "Processing record 200 | taos\n",
      "Processing record 201 | maues\n",
      "Processing record 202 | pevek\n",
      "Processing record 203 | padang\n",
      "aflu not found. Skipping...\n",
      "Processing record 204 | shimoda\n",
      "Processing record 205 | bakchar\n",
      "Processing record 206 | bay roberts\n",
      "Processing record 207 | thompson\n",
      "Processing record 208 | praia da vitoria\n",
      "vastervik not found. Skipping...\n",
      "Processing record 209 | batagay-alyta\n",
      "Processing record 210 | kankan\n",
      "Processing record 211 | lingao\n",
      "belushya guba not found. Skipping...\n",
      "Processing record 212 | dalvik\n",
      "louisbourg not found. Skipping...\n",
      "vaitupu not found. Skipping...\n",
      "Processing record 213 | eyl\n",
      "Processing record 214 | kloulklubed\n",
      "Processing record 215 | henties bay\n",
      "mys shmidta not found. Skipping...\n",
      "Processing record 216 | pacific grove\n",
      "Processing record 217 | kovur\n",
      "Processing record 218 | alakurtti\n",
      "Processing record 219 | saint george\n",
      "Processing record 220 | chapleau\n",
      "ngukurr not found. Skipping...\n",
      "Processing record 221 | council bluffs\n",
      "Processing record 222 | ottawa\n",
      "Processing record 223 | talnakh\n",
      "Processing record 224 | middelburg\n",
      "Processing record 225 | mehamn\n"
     ]
    },
    {
     "name": "stdout",
     "output_type": "stream",
     "text": [
      "Processing record 226 | nandi\n",
      "Processing record 227 | kushima\n",
      "Processing record 228 | salta\n",
      "Processing record 229 | papineauville\n",
      "Processing record 230 | richards bay\n",
      "Processing record 231 | wamba\n",
      "kamenskoye not found. Skipping...\n",
      "Processing record 232 | panaba\n",
      "Processing record 233 | hengyang\n",
      "Processing record 234 | tautira\n",
      "Processing record 235 | urengoy\n",
      "Processing record 236 | kisangani\n",
      "Processing record 237 | isangel\n",
      "Processing record 238 | portland\n",
      "Processing record 239 | uusikaupunki\n",
      "Processing record 240 | freeport\n",
      "Processing record 241 | manta\n",
      "Processing record 242 | bukachacha\n",
      "Processing record 243 | komsomolskiy\n",
      "Processing record 244 | coihaique\n",
      "Processing record 245 | tumbagaan\n",
      "Processing record 246 | de-kastri\n",
      "Processing record 247 | fairbanks\n",
      "Processing record 248 | madinat sittah uktubar\n",
      "Processing record 249 | uruzgan\n",
      "Processing record 250 | ola\n",
      "Processing record 251 | port-cartier\n",
      "Processing record 252 | dingle\n",
      "Processing record 253 | cap malheureux\n",
      "Processing record 254 | sao felix do xingu\n",
      "Processing record 255 | abilene\n",
      "Processing record 256 | gat\n",
      "Processing record 257 | mana\n",
      "Processing record 258 | husavik\n",
      "Processing record 259 | hasaki\n",
      "Processing record 260 | sibiti\n",
      "Processing record 261 | ilo\n",
      "Processing record 262 | grindavik\n",
      "Processing record 263 | susangerd\n",
      "Processing record 264 | ostrovnoy\n",
      "Processing record 265 | eslov\n",
      "Processing record 266 | alice springs\n",
      "Processing record 267 | tamboril\n",
      "Processing record 268 | paita\n",
      "Processing record 269 | katav-ivanovsk\n",
      "Processing record 270 | anahuac\n",
      "Processing record 271 | kosh-agach\n",
      "Processing record 272 | dicabisagan\n",
      "Processing record 273 | tigil\n",
      "Processing record 274 | mount isa\n",
      "Processing record 275 | deputatskiy\n",
      "Processing record 276 | carbonia\n",
      "Processing record 277 | chifeng\n",
      "Processing record 278 | roald\n",
      "Processing record 279 | kununurra\n",
      "Processing record 280 | vung tau\n",
      "Processing record 281 | governador valadares\n",
      "Processing record 282 | berlevag\n",
      "Processing record 283 | chinsali\n",
      "Processing record 284 | bonavista\n",
      "Processing record 285 | bud\n",
      "Processing record 286 | afzalgarh\n",
      "Processing record 287 | molochnoye\n",
      "Processing record 288 | lucapa\n",
      "Processing record 289 | bac lieu\n",
      "bolungarvik not found. Skipping...\n",
      "Processing record 290 | tebingtinggi\n",
      "Processing record 291 | koutiala\n",
      "Processing record 292 | quatre cocos\n",
      "Processing record 293 | san andres\n",
      "Processing record 294 | bilma\n",
      "Processing record 295 | nishihara\n",
      "Processing record 296 | buala\n",
      "Processing record 297 | coquimbo\n",
      "Processing record 298 | okhotsk\n",
      "Processing record 299 | bogorodskoye\n",
      "Processing record 300 | souillac\n",
      "Processing record 301 | gravdal\n",
      "samusu not found. Skipping...\n",
      "Processing record 302 | ames\n",
      "Processing record 303 | tete\n",
      "sentyabrskiy not found. Skipping...\n",
      "khonuu not found. Skipping...\n",
      "Processing record 304 | monteagudo\n",
      "Processing record 305 | bintulu\n",
      "Processing record 306 | tolland\n",
      "Processing record 307 | shieli\n",
      "Processing record 308 | kampot\n",
      "Processing record 309 | gurun\n",
      "Processing record 310 | piacabucu\n",
      "Processing record 311 | altay\n",
      "Processing record 312 | bamberg\n",
      "Processing record 313 | cabo san lucas\n",
      "Processing record 314 | tupik\n",
      "Processing record 315 | lichinga\n",
      "Processing record 316 | filadelfia\n",
      "Processing record 317 | san quintin\n",
      "Processing record 318 | sao filipe\n",
      "Processing record 319 | hun\n",
      "Processing record 320 | saldanha\n",
      "Processing record 321 | xam nua\n",
      "Processing record 322 | codrington\n",
      "Processing record 323 | weligama\n",
      "Processing record 324 | sorland\n",
      "Processing record 325 | tuatapere\n",
      "Processing record 326 | bitung\n",
      "Processing record 327 | boueni\n",
      "Processing record 328 | asau\n",
      "Processing record 329 | akonolinga\n",
      "Processing record 330 | fortuna\n",
      "Processing record 331 | ponta delgada\n",
      "tawkar not found. Skipping...\n",
      "Processing record 332 | kaduqli\n",
      "Processing record 333 | port hedland\n",
      "mudyuga not found. Skipping...\n",
      "Processing record 334 | long xuyen\n",
      "Processing record 335 | ketchikan\n",
      "Processing record 336 | menomonie\n",
      "Processing record 337 | port hardy\n",
      "Processing record 338 | kamenka\n",
      "Processing record 339 | sur\n",
      "Processing record 340 | ambunti\n",
      "vizimyary not found. Skipping...\n",
      "Processing record 341 | road town\n",
      "gilazi not found. Skipping...\n",
      "Processing record 342 | cusco\n",
      "Processing record 343 | warrnambool\n",
      "Processing record 344 | yerbogachen\n",
      "Processing record 345 | oksfjord\n",
      "Processing record 346 | kitimat\n",
      "Processing record 347 | sinnamary\n",
      "Processing record 348 | lardos\n",
      "Processing record 349 | anloga\n",
      "Processing record 350 | norman wells\n",
      "Processing record 351 | calaba\n",
      "Processing record 352 | yumen\n",
      "Processing record 353 | tura\n",
      "Processing record 354 | rawson\n",
      "Processing record 355 | port lincoln\n",
      "Processing record 356 | qasigiannguit\n",
      "Processing record 357 | talara\n",
      "Processing record 358 | bandar-e anzali\n",
      "Processing record 359 | pavullo nel frignano\n",
      "Processing record 360 | vardo\n",
      "Processing record 361 | pervomayskoye\n",
      "tabarqah not found. Skipping...\n",
      "Processing record 362 | diapaga\n",
      "Processing record 363 | wick\n",
      "Processing record 364 | bongandanga\n",
      "Processing record 365 | erenhot\n",
      "Processing record 366 | mareeba\n",
      "Processing record 367 | santander\n",
      "Processing record 368 | nanakuli\n",
      "Processing record 369 | rio gallegos\n",
      "Processing record 370 | mariental\n",
      "Processing record 371 | san ramon\n",
      "Processing record 372 | belle fourche\n",
      "Processing record 373 | port-gentil\n",
      "Processing record 374 | miraflores\n",
      "Processing record 375 | pilar\n",
      "Processing record 376 | sisimiut\n",
      "Processing record 377 | lagoa\n",
      "Processing record 378 | lorengau\n",
      "Processing record 379 | beringovskiy\n",
      "Processing record 380 | pervomaysk\n",
      "Processing record 381 | vao\n",
      "Processing record 382 | sines\n",
      "Processing record 383 | muros\n",
      "Processing record 384 | euclides da cunha\n",
      "Processing record 385 | yenagoa\n",
      "Processing record 386 | belmonte\n",
      "Processing record 387 | san rafael\n",
      "morrelganj not found. Skipping...\n",
      "Processing record 388 | saint-malo\n",
      "Processing record 389 | nyimba\n",
      "Processing record 390 | rundu\n",
      "lolua not found. Skipping...\n",
      "Processing record 391 | staryy nadym\n",
      "Processing record 392 | kokopo\n",
      "Processing record 393 | la reforma\n",
      "Processing record 394 | khash\n",
      "Processing record 395 | itarema\n",
      "Processing record 396 | labuhan\n",
      "Processing record 397 | ha tinh\n",
      "Processing record 398 | floro\n",
      "Processing record 399 | kimbe\n",
      "Processing record 400 | gornyye klyuchi\n",
      "amderma not found. Skipping...\n",
      "Processing record 401 | clarence town\n",
      "Processing record 402 | lunenburg\n",
      "Processing record 403 | kudahuvadhoo\n",
      "Processing record 404 | xining\n",
      "Processing record 405 | talakan\n",
      "Processing record 406 | wagar\n",
      "Processing record 407 | upernavik\n",
      "Processing record 408 | kharp\n",
      "Processing record 409 | mayo\n",
      "Processing record 410 | maniitsoq\n",
      "Processing record 411 | rizhao\n",
      "Processing record 412 | zaozerne\n",
      "Processing record 413 | poum\n",
      "Processing record 414 | takoradi\n",
      "Processing record 415 | guapore\n",
      "palabuhanratu not found. Skipping...\n",
      "Processing record 416 | krasnaya gora\n",
      "utiroa not found. Skipping...\n",
      "bargal not found. Skipping...\n",
      "sinkat not found. Skipping...\n",
      "Processing record 417 | san juan de arama\n",
      "Processing record 418 | byron bay\n",
      "Processing record 419 | harer\n",
      "Processing record 420 | nouadhibou\n",
      "Processing record 421 | abu kamal\n",
      "Processing record 422 | inuvik\n",
      "Processing record 423 | saint-pierre\n",
      "Processing record 424 | brae\n",
      "Processing record 425 | punta cardon\n",
      "Processing record 426 | bandarbeyla\n",
      "litoral del san juan not found. Skipping...\n",
      "Processing record 427 | caninde de sao francisco\n",
      "Processing record 428 | manado\n",
      "Processing record 429 | balotra\n",
      "Processing record 430 | tamale\n",
      "Processing record 431 | qarqin\n",
      "Processing record 432 | gijon\n",
      "Processing record 433 | necochea\n",
      "Processing record 434 | bambanglipuro\n",
      "Processing record 435 | maneadero\n",
      "Processing record 436 | maamba\n",
      "Processing record 437 | tezu\n",
      "Processing record 438 | subottsi\n",
      "Processing record 439 | nemuro\n",
      "Processing record 440 | hakkari\n",
      "Processing record 441 | maragogi\n",
      "Processing record 442 | millerovo\n",
      "Processing record 443 | soderhamn\n",
      "zhitikara not found. Skipping...\n",
      "Processing record 444 | klaksvik\n",
      "Processing record 445 | kutahya\n",
      "Processing record 446 | deori\n",
      "hihifo not found. Skipping...\n",
      "Processing record 447 | poco das trincheiras\n",
      "Processing record 448 | kumluca\n",
      "Processing record 449 | tessalit\n",
      "Processing record 450 | hibbing\n",
      "Processing record 451 | khilok\n",
      "Processing record 452 | yangshe\n"
     ]
    },
    {
     "name": "stdout",
     "output_type": "stream",
     "text": [
      "Processing record 453 | leshukonskoye\n",
      "Processing record 454 | khorixas\n",
      "Processing record 455 | jasper\n",
      "Processing record 456 | san joaquin\n",
      "saleaula not found. Skipping...\n",
      "Processing record 457 | falam\n",
      "Processing record 458 | utiel\n",
      "Processing record 459 | bedele\n",
      "Processing record 460 | belyy yar\n",
      "Processing record 461 | kiyevskoye\n",
      "Processing record 462 | kaeo\n",
      "Processing record 463 | quelimane\n",
      "Processing record 464 | kainantu\n",
      "Processing record 465 | araouane\n",
      "Processing record 466 | drumnadrochit\n",
      "saryshagan not found. Skipping...\n",
      "Processing record 467 | sistranda\n",
      "Processing record 468 | mahbubnagar\n",
      "Processing record 469 | preili\n",
      "Processing record 470 | hami\n",
      "Processing record 471 | aguimes\n",
      "Processing record 472 | jinka\n",
      "Processing record 473 | mopipi\n",
      "Processing record 474 | lata\n",
      "Processing record 475 | boralday\n",
      "Processing record 476 | haftoni\n",
      "Processing record 477 | jaguariaiva\n",
      "Processing record 478 | preobrazheniye\n",
      "Processing record 479 | pisco\n",
      "Processing record 480 | alirajpur\n",
      "Processing record 481 | beloomut\n",
      "Processing record 482 | sao joao da barra\n",
      "Processing record 483 | sibolga\n",
      "Processing record 484 | mackenzie\n",
      "Processing record 485 | vila franca do campo\n",
      "Processing record 486 | coria\n",
      "Processing record 487 | ternate\n",
      "Processing record 488 | broken hill\n",
      "Processing record 489 | discovery bay\n",
      "Processing record 490 | alta floresta\n",
      "Processing record 491 | faanui\n",
      "Processing record 492 | sao raimundo nonato\n",
      "Processing record 493 | harenkarspel\n",
      "Processing record 494 | prince rupert\n",
      "Processing record 495 | dudinka\n",
      "Processing record 496 | akodia\n",
      "Processing record 497 | la peca\n",
      "Processing record 498 | botou\n",
      "Processing record 499 | iqaluit\n",
      "Processing record 500 | troitskoye\n",
      "Processing record 501 | kidal\n",
      "Processing record 502 | tiszacsege\n",
      "Processing record 503 | krasnoye\n",
      "Processing record 504 | shubarshi\n",
      "Processing record 505 | cabedelo\n",
      "Processing record 506 | gizo\n",
      "Processing record 507 | meadow lake\n",
      "Processing record 508 | general pico\n",
      "Processing record 509 | goderich\n",
      "Processing record 510 | letlhakane\n",
      "Processing record 511 | san carlos del zulia\n",
      "Processing record 512 | oussouye\n",
      "tsihombe not found. Skipping...\n",
      "formoso do araguaia not found. Skipping...\n",
      "Processing record 513 | cortes\n",
      "Processing record 514 | caramoran\n",
      "Processing record 515 | wanxian\n",
      "Processing record 516 | pitimbu\n",
      "Processing record 517 | owerri\n",
      "Processing record 518 | gorom-gorom\n",
      "Processing record 519 | mackay\n",
      "tidore not found. Skipping...\n",
      "Processing record 520 | lagoa vermelha\n",
      "Processing record 521 | iquitos\n",
      "Processing record 522 | chumikan\n",
      "Processing record 523 | nizhniy kuranakh\n",
      "Processing record 524 | wanning\n",
      "Processing record 525 | rimini\n",
      "Processing record 526 | tynda\n",
      "Processing record 527 | chesley\n",
      "Processing record 528 | yar-sale\n",
      "Processing record 529 | denpasar\n",
      "Processing record 530 | tarko-sale\n",
      "Processing record 531 | bumbuna\n",
      "Processing record 532 | corovode\n",
      "Processing record 533 | tromso\n",
      "Processing record 534 | seravezza\n",
      "Processing record 535 | aksu\n",
      "Processing record 536 | baruun-urt\n",
      "Processing record 537 | victor harbor\n",
      "toliary not found. Skipping...\n",
      "Processing record 538 | camacha\n",
      "Processing record 539 | san francisco\n",
      "halalo not found. Skipping...\n",
      "Processing record 540 | tokur\n",
      "Processing record 541 | nabinagar\n",
      "Processing record 542 | asyut\n",
      "Processing record 543 | slavyanka\n",
      "Processing record 544 | kangaatsiaq\n",
      "Processing record 545 | carballo\n",
      "Processing record 546 | niono\n",
      "Processing record 547 | celestun\n",
      "Processing record 548 | booue\n",
      "Processing record 549 | oranjemund\n",
      "Processing record 550 | bijar\n",
      "Processing record 551 | mlowo\n",
      "Processing record 552 | northam\n",
      "Processing record 553 | buseresere\n",
      "Processing record 554 | kemijarvi\n",
      "49 cities were not found...\n"
     ]
    }
   ],
   "source": [
    "found_cities = []\n",
    "temps = []\n",
    "lats = []\n",
    "lons = []\n",
    "hums = []\n",
    "clouds = []\n",
    "wnd_speed = []\n",
    "country = []\n",
    "date = []\n",
    "count = 0\n",
    "notFound = 0\n",
    "\n",
    "# test_cities = [cities[0],cities[1],cities[2],cities[3],cities[4],cities[5]]\n",
    "\n",
    "print(\"Beginning Data Retrieval...\")\n",
    "print(\"------------------------------\")\n",
    "\n",
    "for city in cities:\n",
    "\n",
    "    try:\n",
    "\n",
    "        response = requests.get(query_url + city).json()\n",
    "        temps.append(response['main']['temp_max'])\n",
    "        hums.append(response['main']['humidity'])\n",
    "        lats.append(response['coord']['lat'])\n",
    "        lons.append(response['coord']['lon'])\n",
    "        clouds.append(response['clouds']['all'])\n",
    "        wnd_speed.append(response['wind']['speed'])\n",
    "        country.append(response['sys']['country'])\n",
    "        date.append(response['dt'])\n",
    "        found_cities.append(city)\n",
    "\n",
    "        print(f\"Processing record {count} | {city}\")\n",
    "        count = count + 1\n",
    "        \n",
    "    except:\n",
    "        print(f\"{city} not found. Skipping...\")\n",
    "        notFound = notFound + 1\n",
    "            \n",
    "print(f\"{notFound} cities were not found...\")"
   ]
  },
  {
   "cell_type": "markdown",
   "metadata": {},
   "source": [
    "### Convert Raw Data to DataFrame\n",
    "* Export the city data into a .csv.\n",
    "* Display the DataFrame"
   ]
  },
  {
   "cell_type": "code",
   "execution_count": 7,
   "metadata": {},
   "outputs": [
    {
     "name": "stdout",
     "output_type": "stream",
     "text": [
      "Cities :  555\n",
      "Lat : 555\n",
      "Lon : 555\n",
      "Max Temp : 555\n",
      "Humidity : 555\n",
      "Wind Speed : 555\n",
      "Cloudiness : 555\n",
      "Country : 555\n",
      "Date : 555\n"
     ]
    }
   ],
   "source": [
    "print(f\"Cities :  {len(found_cities)}\")\n",
    "print(f\"Lat : {len(lats)}\")\n",
    "print(f\"Lon : {len(lons)}\")\n",
    "print(f\"Max Temp : {len(temps)}\")\n",
    "print(f\"Humidity : {len(hums)}\")\n",
    "print(f\"Wind Speed : {len(wnd_speed)}\")\n",
    "print(f\"Cloudiness : {len(clouds)}\")\n",
    "print(f\"Country : {len(country)}\")\n",
    "print(f\"Date : {len(date)}\")            "
   ]
  },
  {
   "cell_type": "code",
   "execution_count": 8,
   "metadata": {},
   "outputs": [
    {
     "data": {
      "text/html": [
       "<div>\n",
       "<style scoped>\n",
       "    .dataframe tbody tr th:only-of-type {\n",
       "        vertical-align: middle;\n",
       "    }\n",
       "\n",
       "    .dataframe tbody tr th {\n",
       "        vertical-align: top;\n",
       "    }\n",
       "\n",
       "    .dataframe thead th {\n",
       "        text-align: right;\n",
       "    }\n",
       "</style>\n",
       "<table border=\"1\" class=\"dataframe\">\n",
       "  <thead>\n",
       "    <tr style=\"text-align: right;\">\n",
       "      <th></th>\n",
       "      <th>City</th>\n",
       "      <th>Lat</th>\n",
       "      <th>Lng</th>\n",
       "      <th>Max Temp</th>\n",
       "      <th>Humidity</th>\n",
       "      <th>Cloudiness</th>\n",
       "      <th>Wind Speed</th>\n",
       "      <th>Country</th>\n",
       "      <th>Date</th>\n",
       "    </tr>\n",
       "  </thead>\n",
       "  <tbody>\n",
       "    <tr>\n",
       "      <th>0</th>\n",
       "      <td>provideniya</td>\n",
       "      <td>64.3833</td>\n",
       "      <td>-173.3000</td>\n",
       "      <td>45.09</td>\n",
       "      <td>79</td>\n",
       "      <td>100</td>\n",
       "      <td>6.78</td>\n",
       "      <td>RU</td>\n",
       "      <td>1658936846</td>\n",
       "    </tr>\n",
       "    <tr>\n",
       "      <th>1</th>\n",
       "      <td>ushuaia</td>\n",
       "      <td>-54.8000</td>\n",
       "      <td>-68.3000</td>\n",
       "      <td>38.86</td>\n",
       "      <td>70</td>\n",
       "      <td>20</td>\n",
       "      <td>9.22</td>\n",
       "      <td>AR</td>\n",
       "      <td>1658936709</td>\n",
       "    </tr>\n",
       "    <tr>\n",
       "      <th>2</th>\n",
       "      <td>chapais</td>\n",
       "      <td>49.7834</td>\n",
       "      <td>-74.8492</td>\n",
       "      <td>69.58</td>\n",
       "      <td>66</td>\n",
       "      <td>100</td>\n",
       "      <td>3.06</td>\n",
       "      <td>CA</td>\n",
       "      <td>1658936846</td>\n",
       "    </tr>\n",
       "    <tr>\n",
       "      <th>3</th>\n",
       "      <td>sitka</td>\n",
       "      <td>57.0531</td>\n",
       "      <td>-135.3300</td>\n",
       "      <td>55.29</td>\n",
       "      <td>82</td>\n",
       "      <td>20</td>\n",
       "      <td>4.61</td>\n",
       "      <td>US</td>\n",
       "      <td>1658936847</td>\n",
       "    </tr>\n",
       "    <tr>\n",
       "      <th>4</th>\n",
       "      <td>chuy</td>\n",
       "      <td>-33.6971</td>\n",
       "      <td>-53.4616</td>\n",
       "      <td>62.28</td>\n",
       "      <td>86</td>\n",
       "      <td>77</td>\n",
       "      <td>8.14</td>\n",
       "      <td>UY</td>\n",
       "      <td>1658936847</td>\n",
       "    </tr>\n",
       "    <tr>\n",
       "      <th>...</th>\n",
       "      <td>...</td>\n",
       "      <td>...</td>\n",
       "      <td>...</td>\n",
       "      <td>...</td>\n",
       "      <td>...</td>\n",
       "      <td>...</td>\n",
       "      <td>...</td>\n",
       "      <td>...</td>\n",
       "      <td>...</td>\n",
       "    </tr>\n",
       "    <tr>\n",
       "      <th>550</th>\n",
       "      <td>bijar</td>\n",
       "      <td>35.8668</td>\n",
       "      <td>47.6051</td>\n",
       "      <td>84.24</td>\n",
       "      <td>8</td>\n",
       "      <td>0</td>\n",
       "      <td>9.98</td>\n",
       "      <td>IR</td>\n",
       "      <td>1658937026</td>\n",
       "    </tr>\n",
       "    <tr>\n",
       "      <th>551</th>\n",
       "      <td>mlowo</td>\n",
       "      <td>-9.0000</td>\n",
       "      <td>32.9833</td>\n",
       "      <td>63.66</td>\n",
       "      <td>54</td>\n",
       "      <td>74</td>\n",
       "      <td>7.47</td>\n",
       "      <td>TZ</td>\n",
       "      <td>1658937027</td>\n",
       "    </tr>\n",
       "    <tr>\n",
       "      <th>552</th>\n",
       "      <td>northam</td>\n",
       "      <td>51.0333</td>\n",
       "      <td>-4.2167</td>\n",
       "      <td>64.62</td>\n",
       "      <td>76</td>\n",
       "      <td>99</td>\n",
       "      <td>2.64</td>\n",
       "      <td>GB</td>\n",
       "      <td>1658937027</td>\n",
       "    </tr>\n",
       "    <tr>\n",
       "      <th>553</th>\n",
       "      <td>buseresere</td>\n",
       "      <td>-3.0236</td>\n",
       "      <td>31.8747</td>\n",
       "      <td>78.24</td>\n",
       "      <td>34</td>\n",
       "      <td>41</td>\n",
       "      <td>4.34</td>\n",
       "      <td>TZ</td>\n",
       "      <td>1658937027</td>\n",
       "    </tr>\n",
       "    <tr>\n",
       "      <th>554</th>\n",
       "      <td>kemijarvi</td>\n",
       "      <td>66.7131</td>\n",
       "      <td>27.4306</td>\n",
       "      <td>62.91</td>\n",
       "      <td>82</td>\n",
       "      <td>5</td>\n",
       "      <td>11.39</td>\n",
       "      <td>FI</td>\n",
       "      <td>1658937028</td>\n",
       "    </tr>\n",
       "  </tbody>\n",
       "</table>\n",
       "<p>555 rows × 9 columns</p>\n",
       "</div>"
      ],
      "text/plain": [
       "            City      Lat       Lng  Max Temp  Humidity  Cloudiness  \\\n",
       "0    provideniya  64.3833 -173.3000     45.09        79         100   \n",
       "1        ushuaia -54.8000  -68.3000     38.86        70          20   \n",
       "2        chapais  49.7834  -74.8492     69.58        66         100   \n",
       "3          sitka  57.0531 -135.3300     55.29        82          20   \n",
       "4           chuy -33.6971  -53.4616     62.28        86          77   \n",
       "..           ...      ...       ...       ...       ...         ...   \n",
       "550        bijar  35.8668   47.6051     84.24         8           0   \n",
       "551        mlowo  -9.0000   32.9833     63.66        54          74   \n",
       "552      northam  51.0333   -4.2167     64.62        76          99   \n",
       "553   buseresere  -3.0236   31.8747     78.24        34          41   \n",
       "554    kemijarvi  66.7131   27.4306     62.91        82           5   \n",
       "\n",
       "     Wind Speed Country        Date  \n",
       "0          6.78      RU  1658936846  \n",
       "1          9.22      AR  1658936709  \n",
       "2          3.06      CA  1658936846  \n",
       "3          4.61      US  1658936847  \n",
       "4          8.14      UY  1658936847  \n",
       "..          ...     ...         ...  \n",
       "550        9.98      IR  1658937026  \n",
       "551        7.47      TZ  1658937027  \n",
       "552        2.64      GB  1658937027  \n",
       "553        4.34      TZ  1658937027  \n",
       "554       11.39      FI  1658937028  \n",
       "\n",
       "[555 rows x 9 columns]"
      ]
     },
     "execution_count": 8,
     "metadata": {},
     "output_type": "execute_result"
    }
   ],
   "source": [
    "# create a data frame from cities, lat, and temp\n",
    "weather_dict = {\n",
    "    \"City\": found_cities,\n",
    "    \"Lat\": lats,\n",
    "    \"Lng\": lons,\n",
    "    \"Max Temp\": temps,\n",
    "    \"Humidity\": hums,\n",
    "    \"Cloudiness\": clouds,\n",
    "    \"Wind Speed\": wnd_speed,\n",
    "    \"Country\": country,\n",
    "    \"Date\": date\n",
    "}\n",
    "weather_data = pd.DataFrame(weather_dict)\n",
    "weather_data"
   ]
  },
  {
   "cell_type": "code",
   "execution_count": 9,
   "metadata": {},
   "outputs": [],
   "source": [
    "# export DataFrame to CSV file\n",
    "weather_data.to_csv(\"output_data/weather.csv\")"
   ]
  },
  {
   "cell_type": "code",
   "execution_count": 10,
   "metadata": {},
   "outputs": [
    {
     "data": {
      "text/html": [
       "<div>\n",
       "<style scoped>\n",
       "    .dataframe tbody tr th:only-of-type {\n",
       "        vertical-align: middle;\n",
       "    }\n",
       "\n",
       "    .dataframe tbody tr th {\n",
       "        vertical-align: top;\n",
       "    }\n",
       "\n",
       "    .dataframe thead th {\n",
       "        text-align: right;\n",
       "    }\n",
       "</style>\n",
       "<table border=\"1\" class=\"dataframe\">\n",
       "  <thead>\n",
       "    <tr style=\"text-align: right;\">\n",
       "      <th></th>\n",
       "      <th>Lat</th>\n",
       "      <th>Lng</th>\n",
       "      <th>Max Temp</th>\n",
       "      <th>Humidity</th>\n",
       "      <th>Cloudiness</th>\n",
       "      <th>Wind Speed</th>\n",
       "      <th>Date</th>\n",
       "    </tr>\n",
       "  </thead>\n",
       "  <tbody>\n",
       "    <tr>\n",
       "      <th>count</th>\n",
       "      <td>555.000000</td>\n",
       "      <td>555.000000</td>\n",
       "      <td>555.000000</td>\n",
       "      <td>555.000000</td>\n",
       "      <td>555.000000</td>\n",
       "      <td>555.000000</td>\n",
       "      <td>5.550000e+02</td>\n",
       "    </tr>\n",
       "    <tr>\n",
       "      <th>mean</th>\n",
       "      <td>20.962932</td>\n",
       "      <td>16.091175</td>\n",
       "      <td>71.967495</td>\n",
       "      <td>67.983784</td>\n",
       "      <td>54.650450</td>\n",
       "      <td>8.121604</td>\n",
       "      <td>1.658937e+09</td>\n",
       "    </tr>\n",
       "    <tr>\n",
       "      <th>std</th>\n",
       "      <td>32.730449</td>\n",
       "      <td>86.081141</td>\n",
       "      <td>14.411329</td>\n",
       "      <td>22.250577</td>\n",
       "      <td>38.929034</td>\n",
       "      <td>5.114827</td>\n",
       "      <td>1.073945e+02</td>\n",
       "    </tr>\n",
       "    <tr>\n",
       "      <th>min</th>\n",
       "      <td>-54.800000</td>\n",
       "      <td>-175.200000</td>\n",
       "      <td>30.250000</td>\n",
       "      <td>1.000000</td>\n",
       "      <td>0.000000</td>\n",
       "      <td>0.000000</td>\n",
       "      <td>1.658936e+09</td>\n",
       "    </tr>\n",
       "    <tr>\n",
       "      <th>max</th>\n",
       "      <td>78.218600</td>\n",
       "      <td>179.316700</td>\n",
       "      <td>114.440000</td>\n",
       "      <td>100.000000</td>\n",
       "      <td>100.000000</td>\n",
       "      <td>31.250000</td>\n",
       "      <td>1.658937e+09</td>\n",
       "    </tr>\n",
       "    <tr>\n",
       "      <th>25%</th>\n",
       "      <td>-6.252700</td>\n",
       "      <td>-55.942200</td>\n",
       "      <td>62.260000</td>\n",
       "      <td>55.000000</td>\n",
       "      <td>17.000000</td>\n",
       "      <td>4.290000</td>\n",
       "      <td>1.658937e+09</td>\n",
       "    </tr>\n",
       "    <tr>\n",
       "      <th>50%</th>\n",
       "      <td>25.519800</td>\n",
       "      <td>20.744700</td>\n",
       "      <td>74.950000</td>\n",
       "      <td>72.000000</td>\n",
       "      <td>62.000000</td>\n",
       "      <td>7.340000</td>\n",
       "      <td>1.658937e+09</td>\n",
       "    </tr>\n",
       "    <tr>\n",
       "      <th>75%</th>\n",
       "      <td>47.683300</td>\n",
       "      <td>85.426750</td>\n",
       "      <td>81.545000</td>\n",
       "      <td>85.000000</td>\n",
       "      <td>97.000000</td>\n",
       "      <td>10.940000</td>\n",
       "      <td>1.658937e+09</td>\n",
       "    </tr>\n",
       "  </tbody>\n",
       "</table>\n",
       "</div>"
      ],
      "text/plain": [
       "              Lat         Lng    Max Temp    Humidity  Cloudiness  Wind Speed  \\\n",
       "count  555.000000  555.000000  555.000000  555.000000  555.000000  555.000000   \n",
       "mean    20.962932   16.091175   71.967495   67.983784   54.650450    8.121604   \n",
       "std     32.730449   86.081141   14.411329   22.250577   38.929034    5.114827   \n",
       "min    -54.800000 -175.200000   30.250000    1.000000    0.000000    0.000000   \n",
       "max     78.218600  179.316700  114.440000  100.000000  100.000000   31.250000   \n",
       "25%     -6.252700  -55.942200   62.260000   55.000000   17.000000    4.290000   \n",
       "50%     25.519800   20.744700   74.950000   72.000000   62.000000    7.340000   \n",
       "75%     47.683300   85.426750   81.545000   85.000000   97.000000   10.940000   \n",
       "\n",
       "               Date  \n",
       "count  5.550000e+02  \n",
       "mean   1.658937e+09  \n",
       "std    1.073945e+02  \n",
       "min    1.658936e+09  \n",
       "max    1.658937e+09  \n",
       "25%    1.658937e+09  \n",
       "50%    1.658937e+09  \n",
       "75%    1.658937e+09  "
      ]
     },
     "execution_count": 10,
     "metadata": {},
     "output_type": "execute_result"
    }
   ],
   "source": [
    "num_data = weather_data[['Lat', 'Lng', 'Max Temp', 'Humidity', 'Cloudiness', 'Wind Speed','Date']]\n",
    "agg_df = num_data.agg(['count','mean','std','min','max'])\n",
    "quantiles_df = num_data.quantile([.25,.5,.75])\n",
    "agg_df = pd.concat([agg_df, quantiles_df], axis=0)\n",
    "agg_df = agg_df.rename(index={\n",
    "    0.25: '25%',\n",
    "    0.5: '50%',\n",
    "    0.75: '75%',  \n",
    "                    })\n",
    "agg_df"
   ]
  },
  {
   "cell_type": "markdown",
   "metadata": {},
   "source": [
    "## Inspect the data and remove the cities where the humidity > 100%.\n",
    "----\n",
    "Skip this step if there are no cities that have humidity > 100%. "
   ]
  },
  {
   "cell_type": "code",
   "execution_count": 11,
   "metadata": {},
   "outputs": [
    {
     "data": {
      "text/html": [
       "<div>\n",
       "<style scoped>\n",
       "    .dataframe tbody tr th:only-of-type {\n",
       "        vertical-align: middle;\n",
       "    }\n",
       "\n",
       "    .dataframe tbody tr th {\n",
       "        vertical-align: top;\n",
       "    }\n",
       "\n",
       "    .dataframe thead th {\n",
       "        text-align: right;\n",
       "    }\n",
       "</style>\n",
       "<table border=\"1\" class=\"dataframe\">\n",
       "  <thead>\n",
       "    <tr style=\"text-align: right;\">\n",
       "      <th></th>\n",
       "      <th>City</th>\n",
       "      <th>Lat</th>\n",
       "      <th>Lng</th>\n",
       "      <th>Max Temp</th>\n",
       "      <th>Humidity</th>\n",
       "      <th>Cloudiness</th>\n",
       "      <th>Wind Speed</th>\n",
       "      <th>Country</th>\n",
       "      <th>Date</th>\n",
       "    </tr>\n",
       "  </thead>\n",
       "  <tbody>\n",
       "    <tr>\n",
       "      <th>0</th>\n",
       "      <td>provideniya</td>\n",
       "      <td>64.3833</td>\n",
       "      <td>-173.3000</td>\n",
       "      <td>45.09</td>\n",
       "      <td>79</td>\n",
       "      <td>100</td>\n",
       "      <td>6.78</td>\n",
       "      <td>RU</td>\n",
       "      <td>1658936846</td>\n",
       "    </tr>\n",
       "    <tr>\n",
       "      <th>1</th>\n",
       "      <td>ushuaia</td>\n",
       "      <td>-54.8000</td>\n",
       "      <td>-68.3000</td>\n",
       "      <td>38.86</td>\n",
       "      <td>70</td>\n",
       "      <td>20</td>\n",
       "      <td>9.22</td>\n",
       "      <td>AR</td>\n",
       "      <td>1658936709</td>\n",
       "    </tr>\n",
       "    <tr>\n",
       "      <th>2</th>\n",
       "      <td>chapais</td>\n",
       "      <td>49.7834</td>\n",
       "      <td>-74.8492</td>\n",
       "      <td>69.58</td>\n",
       "      <td>66</td>\n",
       "      <td>100</td>\n",
       "      <td>3.06</td>\n",
       "      <td>CA</td>\n",
       "      <td>1658936846</td>\n",
       "    </tr>\n",
       "    <tr>\n",
       "      <th>3</th>\n",
       "      <td>sitka</td>\n",
       "      <td>57.0531</td>\n",
       "      <td>-135.3300</td>\n",
       "      <td>55.29</td>\n",
       "      <td>82</td>\n",
       "      <td>20</td>\n",
       "      <td>4.61</td>\n",
       "      <td>US</td>\n",
       "      <td>1658936847</td>\n",
       "    </tr>\n",
       "    <tr>\n",
       "      <th>4</th>\n",
       "      <td>chuy</td>\n",
       "      <td>-33.6971</td>\n",
       "      <td>-53.4616</td>\n",
       "      <td>62.28</td>\n",
       "      <td>86</td>\n",
       "      <td>77</td>\n",
       "      <td>8.14</td>\n",
       "      <td>UY</td>\n",
       "      <td>1658936847</td>\n",
       "    </tr>\n",
       "  </tbody>\n",
       "</table>\n",
       "</div>"
      ],
      "text/plain": [
       "          City      Lat       Lng  Max Temp  Humidity  Cloudiness  Wind Speed  \\\n",
       "0  provideniya  64.3833 -173.3000     45.09        79         100        6.78   \n",
       "1      ushuaia -54.8000  -68.3000     38.86        70          20        9.22   \n",
       "2      chapais  49.7834  -74.8492     69.58        66         100        3.06   \n",
       "3        sitka  57.0531 -135.3300     55.29        82          20        4.61   \n",
       "4         chuy -33.6971  -53.4616     62.28        86          77        8.14   \n",
       "\n",
       "  Country        Date  \n",
       "0      RU  1658936846  \n",
       "1      AR  1658936709  \n",
       "2      CA  1658936846  \n",
       "3      US  1658936847  \n",
       "4      UY  1658936847  "
      ]
     },
     "execution_count": 11,
     "metadata": {},
     "output_type": "execute_result"
    }
   ],
   "source": [
    "sorted_cities = weather_data[weather_data['Humidity'] <= 100]\n",
    "sorted_cities.head()"
   ]
  },
  {
   "cell_type": "markdown",
   "metadata": {},
   "source": [
    "## Plotting the Data\n",
    "* Use proper labeling of the plots using plot titles (including date of analysis) and axes labels.\n",
    "* Save the plotted figures as .pngs."
   ]
  },
  {
   "cell_type": "markdown",
   "metadata": {},
   "source": [
    "## Latitude vs. Temperature Plot"
   ]
  },
  {
   "cell_type": "code",
   "execution_count": 12,
   "metadata": {},
   "outputs": [
    {
     "data": {
      "image/png": "[encoded data removed]",
      "text/plain": [
       "<Figure size 432x288 with 1 Axes>"
      ]
     },
     "metadata": {
      "needs_background": "light"
     },
     "output_type": "display_data"
    }
   ],
   "source": [
    "ax1 = sorted_cities.plot.scatter(x='Lat',\n",
    "...                       y='Max Temp',\n",
    "...                       c='DarkBlue',\n",
    "                                )\n",
    "ax1.grid()\n",
    "plt.savefig('output_data/latVsTemp.png')"
   ]
  },
  {
   "cell_type": "markdown",
   "metadata": {},
   "source": [
    "## ( lat vs temp ) : \n",
    "    *from this plot one can that the closer to the equator (where Lat = 0) the hotter the max temp will be "
   ]
  },
  {
   "cell_type": "markdown",
   "metadata": {},
   "source": [
    "## Latitude vs. Humidity Plot"
   ]
  },
  {
   "cell_type": "code",
   "execution_count": 13,
   "metadata": {
    "scrolled": true
   },
   "outputs": [
    {
     "data": {
      "image/png": "[encoded data removed]",
      "text/plain": [
       "<Figure size 432x288 with 1 Axes>"
      ]
     },
     "metadata": {
      "needs_background": "light"
     },
     "output_type": "display_data"
    }
   ],
   "source": [
    "ax1 = sorted_cities.plot.scatter(x='Lat',\n",
    "...                       y='Humidity',\n",
    "...                       c='DarkBlue',\n",
    "                                )\n",
    "ax1.grid()\n",
    "plt.savefig('../output/latVsHum.png')"
   ]
  },
  {
   "cell_type": "markdown",
   "metadata": {},
   "source": [
    "## Observation ( lat vs hum ) :"
   ]
  },
  {
   "cell_type": "markdown",
   "metadata": {},
   "source": [
    "## Latitude vs. Cloudiness Plot"
   ]
  },
  {
   "cell_type": "code",
   "execution_count": 14,
   "metadata": {},
   "outputs": [
    {
     "data": {
      "image/png": "[encoded data removed]",
      "text/plain": [
       "<Figure size 432x288 with 1 Axes>"
      ]
     },
     "metadata": {
      "needs_background": "light"
     },
     "output_type": "display_data"
    }
   ],
   "source": [
    "ax1 = sorted_cities.plot.scatter(x='Lat',\n",
    "...                       y='Cloudiness',\n",
    "...                       c='DarkBlue',\n",
    "                                )\n",
    "ax1.grid()\n",
    "plt.savefig('output_data/latVsCloud.png')"
   ]
  },
  {
   "cell_type": "markdown",
   "metadata": {},
   "source": [
    "## ( lat vs clouds ) : \n",
    "    *cloudiness seems to be indepedent for most part from latitude (there is no strong correlation)"
   ]
  },
  {
   "cell_type": "markdown",
   "metadata": {},
   "source": [
    "## Latitude vs. Wind Speed Plot"
   ]
  },
  {
   "cell_type": "code",
   "execution_count": 15,
   "metadata": {},
   "outputs": [
    {
     "data": {
      "image/png": "[encoded data removed]",
      "text/plain": [
       "<Figure size 432x288 with 1 Axes>"
      ]
     },
     "metadata": {
      "needs_background": "light"
     },
     "output_type": "display_data"
    }
   ],
   "source": [
    "ax1 = sorted_cities.plot.scatter(x='Lat',\n",
    "...                       y='Wind Speed',\n",
    "...                       c='DarkBlue',\n",
    "                                )\n",
    "ax1.grid()\n",
    "plt.savefig('output_data/latVsWind.png')"
   ]
  },
  {
   "cell_type": "markdown",
   "metadata": {},
   "source": [
    "## ( lat vs wind speed ) :\n",
    "    *like cloudiness also seems to have no strong correlation to latitude"
   ]
  },
  {
   "cell_type": "markdown",
   "metadata": {},
   "source": [
    "## Linear Regression"
   ]
  },
  {
   "cell_type": "code",
   "execution_count": 16,
   "metadata": {},
   "outputs": [],
   "source": [
    "# This time, separate the plots into Northern Hemisphere (greater than or equal to 0 degrees latitude) \n",
    "# and Southern Hemisphere (less than 0 degrees latitude):\n",
    "north_cities = sorted_cities[sorted_cities['Lat'] >= 0]\n",
    "south_cities = sorted_cities[sorted_cities['Lat'] < 0 ]"
   ]
  },
  {
   "cell_type": "markdown",
   "metadata": {},
   "source": [
    "####  Northern Hemisphere - Max Temp vs. Latitude Linear Regression"
   ]
  },
  {
   "cell_type": "code",
   "execution_count": 17,
   "metadata": {},
   "outputs": [
    {
     "name": "stdout",
     "output_type": "stream",
     "text": [
      "The r-value is: -0.6291491099860176\n"
     ]
    },
    {
     "data": {
      "image/png": "[encoded data removed]",
      "text/plain": [
       "<Figure size 432x288 with 1 Axes>"
      ]
     },
     "metadata": {
      "needs_background": "light"
     },
     "output_type": "display_data"
    }
   ],
   "source": [
    "ax1 = north_cities.plot.scatter(x='Lat',\n",
    "...                       y='Max Temp',\n",
    "...                       c='DarkBlue',\n",
    "                                )\n",
    "(slope, intercept, rvalue, pvalue, stderr) = linregress(north_cities['Lat'], north_cities['Max Temp'])\n",
    "line_eq = \"y = \" + str(round(slope,2)) + \"x + \" + str(round(intercept,2))\n",
    "print(f\"The r-value is: {rvalue}\")\n",
    "regress_values = north_cities['Lat'] * slope + intercept\n",
    "ax1.plot(north_cities['Lat'],regress_values,\"r-\")\n",
    "ax1.grid()\n",
    "\n",
    "ax1.annotate(line_eq,(5.8,0.8),fontsize=15,color=\"red\")\n",
    "plt.savefig('output_data/NorthlatVsMaxTemp.png')"
   ]
  },
  {
   "cell_type": "markdown",
   "metadata": {},
   "source": [
    "####  Southern Hemisphere - Max Temp vs. Latitude Linear Regression"
   ]
  },
  {
   "cell_type": "code",
   "execution_count": 18,
   "metadata": {
    "scrolled": true
   },
   "outputs": [
    {
     "name": "stdout",
     "output_type": "stream",
     "text": [
      "The r-value is: 0.7926937384433805\n"
     ]
    },
    {
     "data": {
      "image/png": "[encoded data removed]",
      "text/plain": [
       "<Figure size 432x288 with 1 Axes>"
      ]
     },
     "metadata": {
      "needs_background": "light"
     },
     "output_type": "display_data"
    }
   ],
   "source": [
    "ax1 = south_cities.plot.scatter(x='Lat',\n",
    "...                       y='Max Temp',\n",
    "...                       c='DarkBlue',\n",
    "                                )\n",
    "(slope, intercept, rvalue, pvalue, stderr) = linregress(south_cities['Lat'], south_cities['Max Temp'])\n",
    "line_eq = \"y = \" + str(round(slope,2)) + \"x + \" + str(round(intercept,2))\n",
    "print(f\"The r-value is: {rvalue}\")\n",
    "regress_values = south_cities['Lat'] * slope + intercept\n",
    "ax1.plot(south_cities['Lat'],regress_values,\"r-\")\n",
    "ax1.grid()\n",
    "ax1.annotate(line_eq,(-50.8,0.8),fontsize=15,color=\"red\")\n",
    "plt.savefig('output_data/SouthlatVsMaxTemp.png')"
   ]
  },
  {
   "cell_type": "markdown",
   "metadata": {},
   "source": [
    "# Max Temp vs. Latitude Linear Regression :\n",
    " * For both north and south hemisphere there is a strong correlation between Lat and Max temp,  if both graphs x-axis were to start at 0 they would have about the same r value. This r vlaue can transalte into the fact that temperature decreases as you move away from 0 latitude."
   ]
  },
  {
   "cell_type": "markdown",
   "metadata": {},
   "source": [
    "####  Northern Hemisphere - Humidity (%) vs. Latitude Linear Regression"
   ]
  },
  {
   "cell_type": "code",
   "execution_count": 19,
   "metadata": {},
   "outputs": [
    {
     "name": "stdout",
     "output_type": "stream",
     "text": [
      "The r-value is: 0.05606981959634025\n"
     ]
    },
    {
     "data": {
      "image/png": "[encoded data removed]",
      "text/plain": [
       "<Figure size 432x288 with 1 Axes>"
      ]
     },
     "metadata": {
      "needs_background": "light"
     },
     "output_type": "display_data"
    }
   ],
   "source": [
    "\n",
    "ax1 = north_cities.plot.scatter(x='Lat',\n",
    "...                       y='Humidity',\n",
    "...                       c='DarkBlue',\n",
    "                                )\n",
    "(slope, intercept, rvalue, pvalue, stderr) = linregress(north_cities['Lat'], north_cities['Humidity'])\n",
    "print(f\"The r-value is: {rvalue}\")\n",
    "regress_values = north_cities['Lat'] * slope + intercept\n",
    "ax1.plot(north_cities['Lat'],regress_values,\"r-\")\n",
    "ax1.grid()\n",
    "line_eq = \"y = \" + str(round(slope,2)) + \"x + \" + str(round(intercept,2))\n",
    "ax1.annotate(line_eq,(5.8,0.8),fontsize=15,color=\"red\")\n",
    "plt.savefig('output_data/NorthlatVsHum.png')"
   ]
  },
  {
   "cell_type": "markdown",
   "metadata": {},
   "source": [
    "####  Southern Hemisphere - Humidity (%) vs. Latitude Linear Regression"
   ]
  },
  {
   "cell_type": "code",
   "execution_count": 20,
   "metadata": {},
   "outputs": [
    {
     "name": "stdout",
     "output_type": "stream",
     "text": [
      "The r-value is: -0.24218485043710475\n"
     ]
    },
    {
     "data": {
      "image/png": "[encoded data removed]",
      "text/plain": [
       "<Figure size 432x288 with 1 Axes>"
      ]
     },
     "metadata": {
      "needs_background": "light"
     },
     "output_type": "display_data"
    }
   ],
   "source": [
    "ax1 = south_cities.plot.scatter(x='Lat',\n",
    "...                       y='Humidity',\n",
    "...                       c='DarkBlue',\n",
    "                                )\n",
    "(slope, intercept, rvalue, pvalue, stderr) = linregress(south_cities['Lat'], south_cities['Humidity'])\n",
    "print(f\"The r-value is: {rvalue}\")\n",
    "regress_values = south_cities['Lat'] * slope + intercept\n",
    "ax1.plot(south_cities['Lat'],regress_values,\"r-\")\n",
    "ax1.grid()\n",
    "line_eq = \"y = \" + str(round(slope,2)) + \"x + \" + str(round(intercept,2))\n",
    "ax1.annotate(line_eq,(-25,20),fontsize=15,color=\"red\")\n",
    "plt.savefig('output_data/SouthlatVsHum.png')"
   ]
  },
  {
   "cell_type": "markdown",
   "metadata": {},
   "source": [
    "# Humidity(%) vs. Latitude Linear Regression :\n",
    " * In the Southern hemisphere a stronger correlation between Latitude and Humidity was found. Although it is still low as you approach the equautor or 0 latitude humidity increases.\n",
    " ----------------------------------"
   ]
  },
  {
   "cell_type": "markdown",
   "metadata": {},
   "source": [
    "####  Northern Hemisphere - Cloudiness (%) vs. Latitude Linear Regression"
   ]
  },
  {
   "cell_type": "code",
   "execution_count": 21,
   "metadata": {},
   "outputs": [
    {
     "name": "stdout",
     "output_type": "stream",
     "text": [
      "The r-value is: -0.001333126876341253\n"
     ]
    },
    {
     "data": {
      "image/png": "[encoded data removed]",
      "text/plain": [
       "<Figure size 432x288 with 1 Axes>"
      ]
     },
     "metadata": {
      "needs_background": "light"
     },
     "output_type": "display_data"
    }
   ],
   "source": [
    "ax1 = north_cities.plot.scatter(x='Lat',\n",
    "...                       y='Cloudiness',\n",
    "...                       c='DarkBlue',\n",
    "                                )\n",
    "(slope, intercept, rvalue, pvalue, stderr) = linregress(north_cities['Lat'], north_cities['Cloudiness'])\n",
    "print(f\"The r-value is: {rvalue}\")\n",
    "regress_values = north_cities['Lat'] * slope + intercept\n",
    "ax1.plot(north_cities['Lat'],regress_values,\"r-\")\n",
    "ax1.grid()\n",
    "line_eq = \"y = \" + str(round(slope,2)) + \"x + \" + str(round(intercept,2))\n",
    "ax1.annotate(line_eq,(7,5.8),fontsize=15,color=\"red\")\n",
    "plt.savefig('output_data/NorthlatVsCloud.png')"
   ]
  },
  {
   "cell_type": "markdown",
   "metadata": {},
   "source": [
    "####  Southern Hemisphere - Cloudiness (%) vs. Latitude Linear Regression"
   ]
  },
  {
   "cell_type": "code",
   "execution_count": 22,
   "metadata": {},
   "outputs": [
    {
     "name": "stdout",
     "output_type": "stream",
     "text": [
      "The r-value is: -0.03289763125630871\n"
     ]
    },
    {
     "data": {
      "image/png": "[encoded data removed]",
      "text/plain": [
       "<Figure size 432x288 with 1 Axes>"
      ]
     },
     "metadata": {
      "needs_background": "light"
     },
     "output_type": "display_data"
    }
   ],
   "source": [
    "ax1 = south_cities.plot.scatter(x='Lat',\n",
    "...                       y='Cloudiness',\n",
    "...                       c='DarkBlue',\n",
    "                                )\n",
    "(slope, intercept, rvalue, pvalue, stderr) = linregress(south_cities['Lat'], south_cities['Cloudiness'])\n",
    "print(f\"The r-value is: {rvalue}\")\n",
    "regress_values = south_cities['Lat'] * slope + intercept\n",
    "ax1.plot(south_cities['Lat'],regress_values,\"r-\")\n",
    "ax1.grid()\n",
    "line_eq = \"y = \" + str(round(slope,2)) + \"x + \" + str(round(intercept,2))\n",
    "ax1.annotate(line_eq,(-10,0.8),fontsize=15,color=\"red\")\n",
    "plt.savefig('output_data/SouthlatVsCloud.png')"
   ]
  },
  {
   "cell_type": "markdown",
   "metadata": {},
   "source": [
    "# Cloudiness(%) vs. Latitude Linear Regression :\n",
    " * There is little to no correlation between latitude and cloudiness in both the southern and northern hemisphere."
   ]
  },
  {
   "cell_type": "markdown",
   "metadata": {},
   "source": [
    "####  Northern Hemisphere - Wind Speed (mph) vs. Latitude Linear Regression"
   ]
  },
  {
   "cell_type": "code",
   "execution_count": 23,
   "metadata": {},
   "outputs": [
    {
     "name": "stdout",
     "output_type": "stream",
     "text": [
      "The r-value is: -0.055566053976199944\n"
     ]
    },
    {
     "data": {
      "image/png": "[encoded data removed]",
      "text/plain": [
       "<Figure size 432x288 with 1 Axes>"
      ]
     },
     "metadata": {
      "needs_background": "light"
     },
     "output_type": "display_data"
    }
   ],
   "source": [
    "ax1 = north_cities.plot.scatter(x='Lat',\n",
    "...                       y='Wind Speed',\n",
    "...                       c='DarkBlue',\n",
    "                                )\n",
    "(slope, intercept, rvalue, pvalue, stderr) = linregress(north_cities['Lat'], north_cities['Wind Speed'])\n",
    "print(f\"The r-value is: {rvalue}\")\n",
    "regress_values = north_cities['Lat'] * slope + intercept\n",
    "ax1.plot(north_cities['Lat'],regress_values,\"r-\")\n",
    "ax1.grid()\n",
    "line_eq = \"y = \" + str(round(slope,3)) + \"x + \" + str(round(intercept,2))\n",
    "ax1.annotate(line_eq,(5.8,10.8),fontsize=15,color=\"red\")\n",
    "plt.savefig('../output/NorthlatVsWind.png')"
   ]
  },
  {
   "cell_type": "markdown",
   "metadata": {},
   "source": [
    "####  Southern Hemisphere - Wind Speed (mph) vs. Latitude Linear Regression"
   ]
  },
  {
   "cell_type": "code",
   "execution_count": 24,
   "metadata": {},
   "outputs": [
    {
     "name": "stdout",
     "output_type": "stream",
     "text": [
      "The r-value is: -0.005540265298778584\n"
     ]
    },
    {
     "data": {
      "image/png": "[encoded data removed]",
      "text/plain": [
       "<Figure size 432x288 with 1 Axes>"
      ]
     },
     "metadata": {
      "needs_background": "light"
     },
     "output_type": "display_data"
    }
   ],
   "source": [
    "ax1 = south_cities.plot.scatter(x='Lat',\n",
    "...                       y='Wind Speed',\n",
    "...                       c='DarkBlue',\n",
    "                                )\n",
    "(slope, intercept, rvalue, pvalue, stderr) = linregress(south_cities['Lat'], south_cities['Wind Speed'])\n",
    "print(f\"The r-value is: {rvalue}\")\n",
    "regress_values = south_cities['Lat'] * slope + intercept\n",
    "ax1.plot(south_cities['Lat'],regress_values,\"r-\")\n",
    "ax1.grid()\n",
    "line_eq = \"y = \" + str(round(slope,3)) + \"x + \" + str(round(intercept,2))\n",
    "ax1.annotate(line_eq,(-54.8,-0.2),fontsize=15,color=\"red\")\n",
    "plt.savefig('../output/SouthlatVsWind.png')"
   ]
  },
  {
   "cell_type": "markdown",
   "metadata": {},
   "source": [
    "# Wind Speed (mph) vs. Latitude Linear Regression :\n",
    " * There is little to no correlation between wind speed and latitude in both hemipsheres, although the r value is slightly more in the northern hempshere"
   ]
  },
  {
   "cell_type": "code",
   "execution_count": null,
   "metadata": {},
   "outputs": [],
   "source": []
  }
 ],
 "metadata": {
  "anaconda-cloud": {},
  "kernel_info": {
   "name": "python3"
  },
  "kernelspec": {
   "display_name": "Python 3 (ipykernel)",
   "language": "python",
   "name": "python3"
  },
  "language_info": {
   "codemirror_mode": {
    "name": "ipython",
    "version": 3
   },
   "file_extension": ".py",
   "mimetype": "text/x-python",
   "name": "python",
   "nbconvert_exporter": "python",
   "pygments_lexer": "ipython3",
   "version": "3.9.12"
  },
  "latex_envs": {
   "LaTeX_envs_menu_present": true,
   "autoclose": false,
   "autocomplete": true,
   "bibliofile": "biblio.bib",
   "cite_by": "apalike",
   "current_citInitial": 1,
   "eqLabelWithNumbers": true,
   "eqNumInitial": 1,
   "hotkeys": {
    "equation": "Ctrl-E",
    "itemize": "Ctrl-I"
   },
   "labels_anchors": false,
   "latex_user_defs": false,
   "report_style_numbering": false,
   "user_envs_cfg": false
  },
  "nteract": {
   "version": "0.12.3"
  }
 },
 "nbformat": 4,
 "nbformat_minor": 2
}
